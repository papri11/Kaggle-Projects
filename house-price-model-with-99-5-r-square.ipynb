{
 "cells": [
  {
   "cell_type": "code",
   "execution_count": 1,
   "id": "65ae50d8",
   "metadata": {
    "_cell_guid": "b1076dfc-b9ad-4769-8c92-a6c4dae69d19",
    "_uuid": "8f2839f25d086af736a60e9eeb907d3b93b6e0e5",
    "execution": {
     "iopub.execute_input": "2021-08-14T18:08:47.297721Z",
     "iopub.status.busy": "2021-08-14T18:08:47.296590Z",
     "iopub.status.idle": "2021-08-14T18:08:47.310419Z",
     "shell.execute_reply": "2021-08-14T18:08:47.310879Z",
     "shell.execute_reply.started": "2021-08-14T18:02:19.269249Z"
    },
    "papermill": {
     "duration": 0.076443,
     "end_time": "2021-08-14T18:08:47.311209",
     "exception": false,
     "start_time": "2021-08-14T18:08:47.234766",
     "status": "completed"
    },
    "tags": []
   },
   "outputs": [
    {
     "name": "stdout",
     "output_type": "stream",
     "text": [
      "/kaggle/input/house-prices-advanced-regression-techniques/sample_submission.csv\n",
      "/kaggle/input/house-prices-advanced-regression-techniques/data_description.txt\n",
      "/kaggle/input/house-prices-advanced-regression-techniques/train.csv\n",
      "/kaggle/input/house-prices-advanced-regression-techniques/test.csv\n"
     ]
    }
   ],
   "source": [
    "# This Python 3 environment comes with many helpful analytics libraries installed\n",
    "# It is defined by the kaggle/python Docker image: https://github.com/kaggle/docker-python\n",
    "# For example, here's several helpful packages to load\n",
    "\n",
    "import numpy as np # linear algebra\n",
    "import pandas as pd # data processing, CSV file I/O (e.g. pd.read_csv)\n",
    "\n",
    "# Input data files are available in the read-only \"../input/\" directory\n",
    "# For example, running this (by clicking run or pressing Shift+Enter) will list all files under the input directory\n",
    "\n",
    "import os\n",
    "for dirname, _, filenames in os.walk('/kaggle/input'):\n",
    "    for filename in filenames:\n",
    "        print(os.path.join(dirname, filename))\n",
    "\n",
    "# You can write up to 20GB to the current directory (/kaggle/working/) that gets preserved as output when you create a version using \"Save & Run All\" \n",
    "# You can also write temporary files to /kaggle/temp/, but they won't be saved outside of the current session"
   ]
  },
  {
   "cell_type": "markdown",
   "id": "84f0b6a2",
   "metadata": {
    "papermill": {
     "duration": 0.056705,
     "end_time": "2021-08-14T18:08:47.427339",
     "exception": false,
     "start_time": "2021-08-14T18:08:47.370634",
     "status": "completed"
    },
    "tags": []
   },
   "source": [
    "# Import libraries"
   ]
  },
  {
   "cell_type": "code",
   "execution_count": 2,
   "id": "a722f398",
   "metadata": {
    "execution": {
     "iopub.execute_input": "2021-08-14T18:08:47.548276Z",
     "iopub.status.busy": "2021-08-14T18:08:47.547240Z",
     "iopub.status.idle": "2021-08-14T18:08:48.500179Z",
     "shell.execute_reply": "2021-08-14T18:08:48.499575Z",
     "shell.execute_reply.started": "2021-08-14T18:02:19.283995Z"
    },
    "papermill": {
     "duration": 1.014771,
     "end_time": "2021-08-14T18:08:48.500323",
     "exception": false,
     "start_time": "2021-08-14T18:08:47.485552",
     "status": "completed"
    },
    "tags": []
   },
   "outputs": [],
   "source": [
    "import numpy as np\n",
    "import pandas as pd\n",
    "import seaborn as sns\n",
    "import matplotlib.pyplot as plt"
   ]
  },
  {
   "cell_type": "code",
   "execution_count": 3,
   "id": "c190885a",
   "metadata": {
    "execution": {
     "iopub.execute_input": "2021-08-14T18:08:48.621018Z",
     "iopub.status.busy": "2021-08-14T18:08:48.620306Z",
     "iopub.status.idle": "2021-08-14T18:08:48.663795Z",
     "shell.execute_reply": "2021-08-14T18:08:48.663232Z",
     "shell.execute_reply.started": "2021-08-14T18:02:19.299223Z"
    },
    "papermill": {
     "duration": 0.10603,
     "end_time": "2021-08-14T18:08:48.663948",
     "exception": false,
     "start_time": "2021-08-14T18:08:48.557918",
     "status": "completed"
    },
    "tags": []
   },
   "outputs": [],
   "source": [
    "# import  data\n",
    "df=pd.read_csv('/kaggle/input/house-prices-advanced-regression-techniques/train.csv')"
   ]
  },
  {
   "cell_type": "code",
   "execution_count": 4,
   "id": "7a267fca",
   "metadata": {
    "execution": {
     "iopub.execute_input": "2021-08-14T18:08:48.796480Z",
     "iopub.status.busy": "2021-08-14T18:08:48.795418Z",
     "iopub.status.idle": "2021-08-14T18:08:48.801033Z",
     "shell.execute_reply": "2021-08-14T18:08:48.800521Z",
     "shell.execute_reply.started": "2021-08-14T18:02:19.346943Z"
    },
    "papermill": {
     "duration": 0.076757,
     "end_time": "2021-08-14T18:08:48.801174",
     "exception": false,
     "start_time": "2021-08-14T18:08:48.724417",
     "status": "completed"
    },
    "tags": []
   },
   "outputs": [],
   "source": [
    "# split the data into independent and dependent variables\n",
    "x=df.drop(['SalePrice'],axis=1)\n",
    "y_train=df[['SalePrice']]"
   ]
  },
  {
   "cell_type": "code",
   "execution_count": 5,
   "id": "eb67c672",
   "metadata": {
    "execution": {
     "iopub.execute_input": "2021-08-14T18:08:48.924242Z",
     "iopub.status.busy": "2021-08-14T18:08:48.923272Z",
     "iopub.status.idle": "2021-08-14T18:08:48.927232Z",
     "shell.execute_reply": "2021-08-14T18:08:48.927684Z",
     "shell.execute_reply.started": "2021-08-14T18:02:19.359338Z"
    },
    "papermill": {
     "duration": 0.068199,
     "end_time": "2021-08-14T18:08:48.927877",
     "exception": false,
     "start_time": "2021-08-14T18:08:48.859678",
     "status": "completed"
    },
    "tags": []
   },
   "outputs": [],
   "source": [
    "# droping unnecessary variable\n",
    "x=x.drop(['Id'],axis=1)"
   ]
  },
  {
   "cell_type": "code",
   "execution_count": 6,
   "id": "43daeb3d",
   "metadata": {
    "execution": {
     "iopub.execute_input": "2021-08-14T18:08:49.054940Z",
     "iopub.status.busy": "2021-08-14T18:08:49.054307Z",
     "iopub.status.idle": "2021-08-14T18:08:49.057922Z",
     "shell.execute_reply": "2021-08-14T18:08:49.057333Z",
     "shell.execute_reply.started": "2021-08-14T18:02:19.374347Z"
    },
    "papermill": {
     "duration": 0.072474,
     "end_time": "2021-08-14T18:08:49.058073",
     "exception": false,
     "start_time": "2021-08-14T18:08:48.985599",
     "status": "completed"
    },
    "tags": []
   },
   "outputs": [
    {
     "data": {
      "text/plain": [
       "SalePrice    180921.19589\n",
       "dtype: float64"
      ]
     },
     "execution_count": 6,
     "metadata": {},
     "output_type": "execute_result"
    }
   ],
   "source": [
    "# Get the Sale price Rate\n",
    "y_train.mean()"
   ]
  },
  {
   "cell_type": "code",
   "execution_count": 7,
   "id": "70a3cbdb",
   "metadata": {
    "execution": {
     "iopub.execute_input": "2021-08-14T18:08:49.183404Z",
     "iopub.status.busy": "2021-08-14T18:08:49.182695Z",
     "iopub.status.idle": "2021-08-14T18:08:49.185542Z",
     "shell.execute_reply": "2021-08-14T18:08:49.184936Z",
     "shell.execute_reply.started": "2021-08-14T18:02:19.392842Z"
    },
    "papermill": {
     "duration": 0.069936,
     "end_time": "2021-08-14T18:08:49.185673",
     "exception": false,
     "start_time": "2021-08-14T18:08:49.115737",
     "status": "completed"
    },
    "tags": []
   },
   "outputs": [],
   "source": [
    "# splitting data into number and category\n",
    "num=x.select_dtypes(include='number')\n",
    "char=x.select_dtypes(include='object')"
   ]
  },
  {
   "cell_type": "code",
   "execution_count": 8,
   "id": "e01c1548",
   "metadata": {
    "execution": {
     "iopub.execute_input": "2021-08-14T18:08:49.307001Z",
     "iopub.status.busy": "2021-08-14T18:08:49.306344Z",
     "iopub.status.idle": "2021-08-14T18:08:49.340296Z",
     "shell.execute_reply": "2021-08-14T18:08:49.339705Z",
     "shell.execute_reply.started": "2021-08-14T18:02:19.410678Z"
    },
    "papermill": {
     "duration": 0.096419,
     "end_time": "2021-08-14T18:08:49.340435",
     "exception": false,
     "start_time": "2021-08-14T18:08:49.244016",
     "status": "completed"
    },
    "tags": []
   },
   "outputs": [
    {
     "data": {
      "text/html": [
       "<div>\n",
       "<style scoped>\n",
       "    .dataframe tbody tr th:only-of-type {\n",
       "        vertical-align: middle;\n",
       "    }\n",
       "\n",
       "    .dataframe tbody tr th {\n",
       "        vertical-align: top;\n",
       "    }\n",
       "\n",
       "    .dataframe thead th {\n",
       "        text-align: right;\n",
       "    }\n",
       "</style>\n",
       "<table border=\"1\" class=\"dataframe\">\n",
       "  <thead>\n",
       "    <tr style=\"text-align: right;\">\n",
       "      <th></th>\n",
       "      <th>feature_levels</th>\n",
       "    </tr>\n",
       "  </thead>\n",
       "  <tbody>\n",
       "    <tr>\n",
       "      <th>MSSubClass</th>\n",
       "      <td>15</td>\n",
       "    </tr>\n",
       "    <tr>\n",
       "      <th>LotFrontage</th>\n",
       "      <td>110</td>\n",
       "    </tr>\n",
       "    <tr>\n",
       "      <th>LotArea</th>\n",
       "      <td>1073</td>\n",
       "    </tr>\n",
       "    <tr>\n",
       "      <th>OverallQual</th>\n",
       "      <td>10</td>\n",
       "    </tr>\n",
       "    <tr>\n",
       "      <th>OverallCond</th>\n",
       "      <td>9</td>\n",
       "    </tr>\n",
       "  </tbody>\n",
       "</table>\n",
       "</div>"
      ],
      "text/plain": [
       "             feature_levels\n",
       "MSSubClass               15\n",
       "LotFrontage             110\n",
       "LotArea                1073\n",
       "OverallQual              10\n",
       "OverallCond               9"
      ]
     },
     "execution_count": 8,
     "metadata": {},
     "output_type": "execute_result"
    }
   ],
   "source": [
    "# creating new dataframe to check how many unique values present in each independent variables\n",
    "def unique_levels(x):\n",
    "    x=x.value_counts().count()\n",
    "    return(x)\n",
    "df_value_counts=pd.DataFrame(num.apply(lambda x : unique_levels(x)))\n",
    "df_value_counts.columns=['feature_levels']\n",
    "df_value_counts.head()"
   ]
  },
  {
   "cell_type": "code",
   "execution_count": 9,
   "id": "b5569a64",
   "metadata": {
    "execution": {
     "iopub.execute_input": "2021-08-14T18:08:49.462939Z",
     "iopub.status.busy": "2021-08-14T18:08:49.462305Z",
     "iopub.status.idle": "2021-08-14T18:08:49.481188Z",
     "shell.execute_reply": "2021-08-14T18:08:49.480639Z",
     "shell.execute_reply.started": "2021-08-14T18:02:19.458621Z"
    },
    "papermill": {
     "duration": 0.082139,
     "end_time": "2021-08-14T18:08:49.481327",
     "exception": false,
     "start_time": "2021-08-14T18:08:49.399188",
     "status": "completed"
    },
    "tags": []
   },
   "outputs": [
    {
     "data": {
      "text/plain": [
       "(1460, 16)"
      ]
     },
     "execution_count": 9,
     "metadata": {},
     "output_type": "execute_result"
    }
   ],
   "source": [
    "# slicing independent variable which are numerical but behave like categorical data\n",
    "slice1=df_value_counts.loc[df_value_counts['feature_levels']<=20]\n",
    "cat_list=slice1.index\n",
    "cat=num.loc[:,cat_list]\n",
    "cat.shape"
   ]
  },
  {
   "cell_type": "code",
   "execution_count": 10,
   "id": "c05d8bbe",
   "metadata": {
    "execution": {
     "iopub.execute_input": "2021-08-14T18:08:49.604620Z",
     "iopub.status.busy": "2021-08-14T18:08:49.603913Z",
     "iopub.status.idle": "2021-08-14T18:08:49.609756Z",
     "shell.execute_reply": "2021-08-14T18:08:49.609247Z",
     "shell.execute_reply.started": "2021-08-14T18:02:19.471136Z"
    },
    "papermill": {
     "duration": 0.069812,
     "end_time": "2021-08-14T18:08:49.609894",
     "exception": false,
     "start_time": "2021-08-14T18:08:49.540082",
     "status": "completed"
    },
    "tags": []
   },
   "outputs": [
    {
     "data": {
      "text/plain": [
       "(1460, 59)"
      ]
     },
     "execution_count": 10,
     "metadata": {},
     "output_type": "execute_result"
    }
   ],
   "source": [
    "# adding those catogical dataset to previous categorical dataset\n",
    "char_1=pd.concat([char,cat],axis=1,join=\"inner\")\n",
    "char_1.shape"
   ]
  },
  {
   "cell_type": "code",
   "execution_count": 11,
   "id": "baa7a369",
   "metadata": {
    "execution": {
     "iopub.execute_input": "2021-08-14T18:08:49.734465Z",
     "iopub.status.busy": "2021-08-14T18:08:49.733820Z",
     "iopub.status.idle": "2021-08-14T18:08:49.736435Z",
     "shell.execute_reply": "2021-08-14T18:08:49.737004Z",
     "shell.execute_reply.started": "2021-08-14T18:02:19.488828Z"
    },
    "papermill": {
     "duration": 0.068706,
     "end_time": "2021-08-14T18:08:49.737165",
     "exception": false,
     "start_time": "2021-08-14T18:08:49.668459",
     "status": "completed"
    },
    "tags": []
   },
   "outputs": [
    {
     "data": {
      "text/plain": [
       "(1460, 20)"
      ]
     },
     "execution_count": 11,
     "metadata": {},
     "output_type": "execute_result"
    }
   ],
   "source": [
    "# updating only dataset which are numbers as well as behave like numerical data\n",
    "slice2=df_value_counts.loc[df_value_counts['feature_levels']>20]\n",
    "num_list=slice2.index\n",
    "num=num.loc[:,num_list]\n",
    "num.shape"
   ]
  },
  {
   "cell_type": "code",
   "execution_count": 12,
   "id": "cf36c43a",
   "metadata": {
    "execution": {
     "iopub.execute_input": "2021-08-14T18:08:49.858808Z",
     "iopub.status.busy": "2021-08-14T18:08:49.858254Z",
     "iopub.status.idle": "2021-08-14T18:08:49.893601Z",
     "shell.execute_reply": "2021-08-14T18:08:49.893076Z",
     "shell.execute_reply.started": "2021-08-14T18:02:19.50716Z"
    },
    "papermill": {
     "duration": 0.097173,
     "end_time": "2021-08-14T18:08:49.893742",
     "exception": false,
     "start_time": "2021-08-14T18:08:49.796569",
     "status": "completed"
    },
    "tags": []
   },
   "outputs": [],
   "source": [
    "# updating categorical data with zero variance\n",
    "char_1 = char_1.loc[:,char_1.apply(pd.Series.nunique) != 1]"
   ]
  },
  {
   "cell_type": "code",
   "execution_count": 13,
   "id": "8891269c",
   "metadata": {
    "execution": {
     "iopub.execute_input": "2021-08-14T18:08:50.018351Z",
     "iopub.status.busy": "2021-08-14T18:08:50.017660Z",
     "iopub.status.idle": "2021-08-14T18:08:50.344079Z",
     "shell.execute_reply": "2021-08-14T18:08:50.344533Z",
     "shell.execute_reply.started": "2021-08-14T18:02:19.548513Z"
    },
    "papermill": {
     "duration": 0.391556,
     "end_time": "2021-08-14T18:08:50.344725",
     "exception": false,
     "start_time": "2021-08-14T18:08:49.953169",
     "status": "completed"
    },
    "tags": []
   },
   "outputs": [
    {
     "data": {
      "text/plain": [
       "20"
      ]
     },
     "execution_count": 13,
     "metadata": {},
     "output_type": "execute_result"
    }
   ],
   "source": [
    "# checking numerical data with zero variance\n",
    "from sklearn.feature_selection import VarianceThreshold \n",
    "constant_filter = VarianceThreshold(threshold=0)\n",
    "constant_filter.fit(num)\n",
    "\n",
    "constant_filter.get_support().sum()"
   ]
  },
  {
   "cell_type": "code",
   "execution_count": 14,
   "id": "3766548c",
   "metadata": {
    "execution": {
     "iopub.execute_input": "2021-08-14T18:08:50.469164Z",
     "iopub.status.busy": "2021-08-14T18:08:50.468440Z",
     "iopub.status.idle": "2021-08-14T18:08:50.545672Z",
     "shell.execute_reply": "2021-08-14T18:08:50.545172Z",
     "shell.execute_reply.started": "2021-08-14T18:02:19.561346Z"
    },
    "papermill": {
     "duration": 0.141539,
     "end_time": "2021-08-14T18:08:50.545809",
     "exception": false,
     "start_time": "2021-08-14T18:08:50.404270",
     "status": "completed"
    },
    "tags": []
   },
   "outputs": [
    {
     "data": {
      "text/html": [
       "<div>\n",
       "<style scoped>\n",
       "    .dataframe tbody tr th:only-of-type {\n",
       "        vertical-align: middle;\n",
       "    }\n",
       "\n",
       "    .dataframe tbody tr th {\n",
       "        vertical-align: top;\n",
       "    }\n",
       "\n",
       "    .dataframe thead th {\n",
       "        text-align: right;\n",
       "    }\n",
       "</style>\n",
       "<table border=\"1\" class=\"dataframe\">\n",
       "  <thead>\n",
       "    <tr style=\"text-align: right;\">\n",
       "      <th></th>\n",
       "      <th>LotFrontage</th>\n",
       "      <th>LotArea</th>\n",
       "      <th>YearBuilt</th>\n",
       "      <th>YearRemodAdd</th>\n",
       "      <th>MasVnrArea</th>\n",
       "      <th>BsmtFinSF1</th>\n",
       "      <th>BsmtFinSF2</th>\n",
       "      <th>BsmtUnfSF</th>\n",
       "      <th>TotalBsmtSF</th>\n",
       "      <th>1stFlrSF</th>\n",
       "      <th>2ndFlrSF</th>\n",
       "      <th>LowQualFinSF</th>\n",
       "      <th>GrLivArea</th>\n",
       "      <th>GarageYrBlt</th>\n",
       "      <th>GarageArea</th>\n",
       "      <th>WoodDeckSF</th>\n",
       "      <th>OpenPorchSF</th>\n",
       "      <th>EnclosedPorch</th>\n",
       "      <th>ScreenPorch</th>\n",
       "      <th>MiscVal</th>\n",
       "    </tr>\n",
       "  </thead>\n",
       "  <tbody>\n",
       "    <tr>\n",
       "      <th>count</th>\n",
       "      <td>1201.000000</td>\n",
       "      <td>1460.000000</td>\n",
       "      <td>1460.000000</td>\n",
       "      <td>1460.000000</td>\n",
       "      <td>1452.000000</td>\n",
       "      <td>1460.000000</td>\n",
       "      <td>1460.000000</td>\n",
       "      <td>1460.000000</td>\n",
       "      <td>1460.000000</td>\n",
       "      <td>1460.000000</td>\n",
       "      <td>1460.000000</td>\n",
       "      <td>1460.000000</td>\n",
       "      <td>1460.000000</td>\n",
       "      <td>1379.000000</td>\n",
       "      <td>1460.000000</td>\n",
       "      <td>1460.000000</td>\n",
       "      <td>1460.000000</td>\n",
       "      <td>1460.000000</td>\n",
       "      <td>1460.000000</td>\n",
       "      <td>1460.000000</td>\n",
       "    </tr>\n",
       "    <tr>\n",
       "      <th>mean</th>\n",
       "      <td>70.049958</td>\n",
       "      <td>10516.828082</td>\n",
       "      <td>1971.267808</td>\n",
       "      <td>1984.865753</td>\n",
       "      <td>103.685262</td>\n",
       "      <td>443.639726</td>\n",
       "      <td>46.549315</td>\n",
       "      <td>567.240411</td>\n",
       "      <td>1057.429452</td>\n",
       "      <td>1162.626712</td>\n",
       "      <td>346.992466</td>\n",
       "      <td>5.844521</td>\n",
       "      <td>1515.463699</td>\n",
       "      <td>1978.506164</td>\n",
       "      <td>472.980137</td>\n",
       "      <td>94.244521</td>\n",
       "      <td>46.660274</td>\n",
       "      <td>21.954110</td>\n",
       "      <td>15.060959</td>\n",
       "      <td>43.489041</td>\n",
       "    </tr>\n",
       "    <tr>\n",
       "      <th>std</th>\n",
       "      <td>24.284752</td>\n",
       "      <td>9981.264932</td>\n",
       "      <td>30.202904</td>\n",
       "      <td>20.645407</td>\n",
       "      <td>181.066207</td>\n",
       "      <td>456.098091</td>\n",
       "      <td>161.319273</td>\n",
       "      <td>441.866955</td>\n",
       "      <td>438.705324</td>\n",
       "      <td>386.587738</td>\n",
       "      <td>436.528436</td>\n",
       "      <td>48.623081</td>\n",
       "      <td>525.480383</td>\n",
       "      <td>24.689725</td>\n",
       "      <td>213.804841</td>\n",
       "      <td>125.338794</td>\n",
       "      <td>66.256028</td>\n",
       "      <td>61.119149</td>\n",
       "      <td>55.757415</td>\n",
       "      <td>496.123024</td>\n",
       "    </tr>\n",
       "    <tr>\n",
       "      <th>min</th>\n",
       "      <td>21.000000</td>\n",
       "      <td>1300.000000</td>\n",
       "      <td>1872.000000</td>\n",
       "      <td>1950.000000</td>\n",
       "      <td>0.000000</td>\n",
       "      <td>0.000000</td>\n",
       "      <td>0.000000</td>\n",
       "      <td>0.000000</td>\n",
       "      <td>0.000000</td>\n",
       "      <td>334.000000</td>\n",
       "      <td>0.000000</td>\n",
       "      <td>0.000000</td>\n",
       "      <td>334.000000</td>\n",
       "      <td>1900.000000</td>\n",
       "      <td>0.000000</td>\n",
       "      <td>0.000000</td>\n",
       "      <td>0.000000</td>\n",
       "      <td>0.000000</td>\n",
       "      <td>0.000000</td>\n",
       "      <td>0.000000</td>\n",
       "    </tr>\n",
       "    <tr>\n",
       "      <th>1%</th>\n",
       "      <td>21.000000</td>\n",
       "      <td>1680.000000</td>\n",
       "      <td>1899.180000</td>\n",
       "      <td>1950.000000</td>\n",
       "      <td>0.000000</td>\n",
       "      <td>0.000000</td>\n",
       "      <td>0.000000</td>\n",
       "      <td>0.000000</td>\n",
       "      <td>0.000000</td>\n",
       "      <td>520.000000</td>\n",
       "      <td>0.000000</td>\n",
       "      <td>0.000000</td>\n",
       "      <td>692.180000</td>\n",
       "      <td>1916.000000</td>\n",
       "      <td>0.000000</td>\n",
       "      <td>0.000000</td>\n",
       "      <td>0.000000</td>\n",
       "      <td>0.000000</td>\n",
       "      <td>0.000000</td>\n",
       "      <td>0.000000</td>\n",
       "    </tr>\n",
       "    <tr>\n",
       "      <th>5%</th>\n",
       "      <td>34.000000</td>\n",
       "      <td>3311.700000</td>\n",
       "      <td>1916.000000</td>\n",
       "      <td>1950.000000</td>\n",
       "      <td>0.000000</td>\n",
       "      <td>0.000000</td>\n",
       "      <td>0.000000</td>\n",
       "      <td>0.000000</td>\n",
       "      <td>519.300000</td>\n",
       "      <td>672.950000</td>\n",
       "      <td>0.000000</td>\n",
       "      <td>0.000000</td>\n",
       "      <td>848.000000</td>\n",
       "      <td>1930.000000</td>\n",
       "      <td>0.000000</td>\n",
       "      <td>0.000000</td>\n",
       "      <td>0.000000</td>\n",
       "      <td>0.000000</td>\n",
       "      <td>0.000000</td>\n",
       "      <td>0.000000</td>\n",
       "    </tr>\n",
       "    <tr>\n",
       "      <th>10%</th>\n",
       "      <td>44.000000</td>\n",
       "      <td>5000.000000</td>\n",
       "      <td>1924.900000</td>\n",
       "      <td>1950.000000</td>\n",
       "      <td>0.000000</td>\n",
       "      <td>0.000000</td>\n",
       "      <td>0.000000</td>\n",
       "      <td>74.900000</td>\n",
       "      <td>636.900000</td>\n",
       "      <td>756.900000</td>\n",
       "      <td>0.000000</td>\n",
       "      <td>0.000000</td>\n",
       "      <td>912.000000</td>\n",
       "      <td>1945.000000</td>\n",
       "      <td>240.000000</td>\n",
       "      <td>0.000000</td>\n",
       "      <td>0.000000</td>\n",
       "      <td>0.000000</td>\n",
       "      <td>0.000000</td>\n",
       "      <td>0.000000</td>\n",
       "    </tr>\n",
       "    <tr>\n",
       "      <th>25%</th>\n",
       "      <td>59.000000</td>\n",
       "      <td>7553.500000</td>\n",
       "      <td>1954.000000</td>\n",
       "      <td>1967.000000</td>\n",
       "      <td>0.000000</td>\n",
       "      <td>0.000000</td>\n",
       "      <td>0.000000</td>\n",
       "      <td>223.000000</td>\n",
       "      <td>795.750000</td>\n",
       "      <td>882.000000</td>\n",
       "      <td>0.000000</td>\n",
       "      <td>0.000000</td>\n",
       "      <td>1129.500000</td>\n",
       "      <td>1961.000000</td>\n",
       "      <td>334.500000</td>\n",
       "      <td>0.000000</td>\n",
       "      <td>0.000000</td>\n",
       "      <td>0.000000</td>\n",
       "      <td>0.000000</td>\n",
       "      <td>0.000000</td>\n",
       "    </tr>\n",
       "    <tr>\n",
       "      <th>50%</th>\n",
       "      <td>69.000000</td>\n",
       "      <td>9478.500000</td>\n",
       "      <td>1973.000000</td>\n",
       "      <td>1994.000000</td>\n",
       "      <td>0.000000</td>\n",
       "      <td>383.500000</td>\n",
       "      <td>0.000000</td>\n",
       "      <td>477.500000</td>\n",
       "      <td>991.500000</td>\n",
       "      <td>1087.000000</td>\n",
       "      <td>0.000000</td>\n",
       "      <td>0.000000</td>\n",
       "      <td>1464.000000</td>\n",
       "      <td>1980.000000</td>\n",
       "      <td>480.000000</td>\n",
       "      <td>0.000000</td>\n",
       "      <td>25.000000</td>\n",
       "      <td>0.000000</td>\n",
       "      <td>0.000000</td>\n",
       "      <td>0.000000</td>\n",
       "    </tr>\n",
       "    <tr>\n",
       "      <th>75%</th>\n",
       "      <td>80.000000</td>\n",
       "      <td>11601.500000</td>\n",
       "      <td>2000.000000</td>\n",
       "      <td>2004.000000</td>\n",
       "      <td>166.000000</td>\n",
       "      <td>712.250000</td>\n",
       "      <td>0.000000</td>\n",
       "      <td>808.000000</td>\n",
       "      <td>1298.250000</td>\n",
       "      <td>1391.250000</td>\n",
       "      <td>728.000000</td>\n",
       "      <td>0.000000</td>\n",
       "      <td>1776.750000</td>\n",
       "      <td>2002.000000</td>\n",
       "      <td>576.000000</td>\n",
       "      <td>168.000000</td>\n",
       "      <td>68.000000</td>\n",
       "      <td>0.000000</td>\n",
       "      <td>0.000000</td>\n",
       "      <td>0.000000</td>\n",
       "    </tr>\n",
       "    <tr>\n",
       "      <th>85%</th>\n",
       "      <td>90.000000</td>\n",
       "      <td>13161.100000</td>\n",
       "      <td>2005.000000</td>\n",
       "      <td>2006.000000</td>\n",
       "      <td>262.350000</td>\n",
       "      <td>929.450000</td>\n",
       "      <td>0.000000</td>\n",
       "      <td>1010.300000</td>\n",
       "      <td>1485.150000</td>\n",
       "      <td>1572.150000</td>\n",
       "      <td>870.150000</td>\n",
       "      <td>0.000000</td>\n",
       "      <td>1987.300000</td>\n",
       "      <td>2005.000000</td>\n",
       "      <td>672.000000</td>\n",
       "      <td>216.000000</td>\n",
       "      <td>105.000000</td>\n",
       "      <td>0.000000</td>\n",
       "      <td>0.000000</td>\n",
       "      <td>0.000000</td>\n",
       "    </tr>\n",
       "    <tr>\n",
       "      <th>90%</th>\n",
       "      <td>96.000000</td>\n",
       "      <td>14381.700000</td>\n",
       "      <td>2006.000000</td>\n",
       "      <td>2006.000000</td>\n",
       "      <td>335.000000</td>\n",
       "      <td>1065.500000</td>\n",
       "      <td>117.200000</td>\n",
       "      <td>1232.000000</td>\n",
       "      <td>1602.200000</td>\n",
       "      <td>1680.000000</td>\n",
       "      <td>954.200000</td>\n",
       "      <td>0.000000</td>\n",
       "      <td>2158.300000</td>\n",
       "      <td>2006.000000</td>\n",
       "      <td>757.100000</td>\n",
       "      <td>262.000000</td>\n",
       "      <td>130.000000</td>\n",
       "      <td>112.000000</td>\n",
       "      <td>0.000000</td>\n",
       "      <td>0.000000</td>\n",
       "    </tr>\n",
       "    <tr>\n",
       "      <th>99%</th>\n",
       "      <td>141.000000</td>\n",
       "      <td>37567.640000</td>\n",
       "      <td>2009.000000</td>\n",
       "      <td>2009.000000</td>\n",
       "      <td>791.920000</td>\n",
       "      <td>1572.410000</td>\n",
       "      <td>830.380000</td>\n",
       "      <td>1797.050000</td>\n",
       "      <td>2155.050000</td>\n",
       "      <td>2219.460000</td>\n",
       "      <td>1418.920000</td>\n",
       "      <td>360.000000</td>\n",
       "      <td>3123.480000</td>\n",
       "      <td>2009.000000</td>\n",
       "      <td>1002.790000</td>\n",
       "      <td>505.460000</td>\n",
       "      <td>285.820000</td>\n",
       "      <td>261.050000</td>\n",
       "      <td>268.050000</td>\n",
       "      <td>700.000000</td>\n",
       "    </tr>\n",
       "    <tr>\n",
       "      <th>max</th>\n",
       "      <td>313.000000</td>\n",
       "      <td>215245.000000</td>\n",
       "      <td>2010.000000</td>\n",
       "      <td>2010.000000</td>\n",
       "      <td>1600.000000</td>\n",
       "      <td>5644.000000</td>\n",
       "      <td>1474.000000</td>\n",
       "      <td>2336.000000</td>\n",
       "      <td>6110.000000</td>\n",
       "      <td>4692.000000</td>\n",
       "      <td>2065.000000</td>\n",
       "      <td>572.000000</td>\n",
       "      <td>5642.000000</td>\n",
       "      <td>2010.000000</td>\n",
       "      <td>1418.000000</td>\n",
       "      <td>857.000000</td>\n",
       "      <td>547.000000</td>\n",
       "      <td>552.000000</td>\n",
       "      <td>480.000000</td>\n",
       "      <td>15500.000000</td>\n",
       "    </tr>\n",
       "  </tbody>\n",
       "</table>\n",
       "</div>"
      ],
      "text/plain": [
       "       LotFrontage        LotArea    YearBuilt  YearRemodAdd   MasVnrArea  \\\n",
       "count  1201.000000    1460.000000  1460.000000   1460.000000  1452.000000   \n",
       "mean     70.049958   10516.828082  1971.267808   1984.865753   103.685262   \n",
       "std      24.284752    9981.264932    30.202904     20.645407   181.066207   \n",
       "min      21.000000    1300.000000  1872.000000   1950.000000     0.000000   \n",
       "1%       21.000000    1680.000000  1899.180000   1950.000000     0.000000   \n",
       "5%       34.000000    3311.700000  1916.000000   1950.000000     0.000000   \n",
       "10%      44.000000    5000.000000  1924.900000   1950.000000     0.000000   \n",
       "25%      59.000000    7553.500000  1954.000000   1967.000000     0.000000   \n",
       "50%      69.000000    9478.500000  1973.000000   1994.000000     0.000000   \n",
       "75%      80.000000   11601.500000  2000.000000   2004.000000   166.000000   \n",
       "85%      90.000000   13161.100000  2005.000000   2006.000000   262.350000   \n",
       "90%      96.000000   14381.700000  2006.000000   2006.000000   335.000000   \n",
       "99%     141.000000   37567.640000  2009.000000   2009.000000   791.920000   \n",
       "max     313.000000  215245.000000  2010.000000   2010.000000  1600.000000   \n",
       "\n",
       "        BsmtFinSF1   BsmtFinSF2    BsmtUnfSF  TotalBsmtSF     1stFlrSF  \\\n",
       "count  1460.000000  1460.000000  1460.000000  1460.000000  1460.000000   \n",
       "mean    443.639726    46.549315   567.240411  1057.429452  1162.626712   \n",
       "std     456.098091   161.319273   441.866955   438.705324   386.587738   \n",
       "min       0.000000     0.000000     0.000000     0.000000   334.000000   \n",
       "1%        0.000000     0.000000     0.000000     0.000000   520.000000   \n",
       "5%        0.000000     0.000000     0.000000   519.300000   672.950000   \n",
       "10%       0.000000     0.000000    74.900000   636.900000   756.900000   \n",
       "25%       0.000000     0.000000   223.000000   795.750000   882.000000   \n",
       "50%     383.500000     0.000000   477.500000   991.500000  1087.000000   \n",
       "75%     712.250000     0.000000   808.000000  1298.250000  1391.250000   \n",
       "85%     929.450000     0.000000  1010.300000  1485.150000  1572.150000   \n",
       "90%    1065.500000   117.200000  1232.000000  1602.200000  1680.000000   \n",
       "99%    1572.410000   830.380000  1797.050000  2155.050000  2219.460000   \n",
       "max    5644.000000  1474.000000  2336.000000  6110.000000  4692.000000   \n",
       "\n",
       "          2ndFlrSF  LowQualFinSF    GrLivArea  GarageYrBlt   GarageArea  \\\n",
       "count  1460.000000   1460.000000  1460.000000  1379.000000  1460.000000   \n",
       "mean    346.992466      5.844521  1515.463699  1978.506164   472.980137   \n",
       "std     436.528436     48.623081   525.480383    24.689725   213.804841   \n",
       "min       0.000000      0.000000   334.000000  1900.000000     0.000000   \n",
       "1%        0.000000      0.000000   692.180000  1916.000000     0.000000   \n",
       "5%        0.000000      0.000000   848.000000  1930.000000     0.000000   \n",
       "10%       0.000000      0.000000   912.000000  1945.000000   240.000000   \n",
       "25%       0.000000      0.000000  1129.500000  1961.000000   334.500000   \n",
       "50%       0.000000      0.000000  1464.000000  1980.000000   480.000000   \n",
       "75%     728.000000      0.000000  1776.750000  2002.000000   576.000000   \n",
       "85%     870.150000      0.000000  1987.300000  2005.000000   672.000000   \n",
       "90%     954.200000      0.000000  2158.300000  2006.000000   757.100000   \n",
       "99%    1418.920000    360.000000  3123.480000  2009.000000  1002.790000   \n",
       "max    2065.000000    572.000000  5642.000000  2010.000000  1418.000000   \n",
       "\n",
       "        WoodDeckSF  OpenPorchSF  EnclosedPorch  ScreenPorch       MiscVal  \n",
       "count  1460.000000  1460.000000    1460.000000  1460.000000   1460.000000  \n",
       "mean     94.244521    46.660274      21.954110    15.060959     43.489041  \n",
       "std     125.338794    66.256028      61.119149    55.757415    496.123024  \n",
       "min       0.000000     0.000000       0.000000     0.000000      0.000000  \n",
       "1%        0.000000     0.000000       0.000000     0.000000      0.000000  \n",
       "5%        0.000000     0.000000       0.000000     0.000000      0.000000  \n",
       "10%       0.000000     0.000000       0.000000     0.000000      0.000000  \n",
       "25%       0.000000     0.000000       0.000000     0.000000      0.000000  \n",
       "50%       0.000000    25.000000       0.000000     0.000000      0.000000  \n",
       "75%     168.000000    68.000000       0.000000     0.000000      0.000000  \n",
       "85%     216.000000   105.000000       0.000000     0.000000      0.000000  \n",
       "90%     262.000000   130.000000     112.000000     0.000000      0.000000  \n",
       "99%     505.460000   285.820000     261.050000   268.050000    700.000000  \n",
       "max     857.000000   547.000000     552.000000   480.000000  15500.000000  "
      ]
     },
     "execution_count": 14,
     "metadata": {},
     "output_type": "execute_result"
    }
   ],
   "source": [
    "# checking outliers in numerical dataset\n",
    "num.describe(percentiles=[0.01,0.05,0.10,0.25,0.50,0.75,0.85,0.9,0.99])"
   ]
  },
  {
   "cell_type": "code",
   "execution_count": 15,
   "id": "d575050a",
   "metadata": {
    "execution": {
     "iopub.execute_input": "2021-08-14T18:08:50.674191Z",
     "iopub.status.busy": "2021-08-14T18:08:50.673548Z",
     "iopub.status.idle": "2021-08-14T18:08:50.740629Z",
     "shell.execute_reply": "2021-08-14T18:08:50.741169Z",
     "shell.execute_reply.started": "2021-08-14T18:02:19.643392Z"
    },
    "papermill": {
     "duration": 0.134714,
     "end_time": "2021-08-14T18:08:50.741339",
     "exception": false,
     "start_time": "2021-08-14T18:08:50.606625",
     "status": "completed"
    },
    "tags": []
   },
   "outputs": [],
   "source": [
    "# removing outliers\n",
    "def outlier_cap(x):\n",
    "    x=x.clip(lower=x.quantile(0.01))\n",
    "    x=x.clip(upper=x.quantile(0.99))\n",
    "    return(x)\n",
    "num1=num.apply(lambda x : outlier_cap(x))"
   ]
  },
  {
   "cell_type": "markdown",
   "id": "c12f2e52",
   "metadata": {
    "papermill": {
     "duration": 0.060409,
     "end_time": "2021-08-14T18:08:50.862555",
     "exception": false,
     "start_time": "2021-08-14T18:08:50.802146",
     "status": "completed"
    },
    "tags": []
   },
   "source": []
  },
  {
   "cell_type": "markdown",
   "id": "60e0e4c2",
   "metadata": {
    "papermill": {
     "duration": 0.060776,
     "end_time": "2021-08-14T18:08:50.984511",
     "exception": false,
     "start_time": "2021-08-14T18:08:50.923735",
     "status": "completed"
    },
    "tags": []
   },
   "source": [
    "# Missing value handing"
   ]
  },
  {
   "cell_type": "code",
   "execution_count": 16,
   "id": "85bfd185",
   "metadata": {
    "execution": {
     "iopub.execute_input": "2021-08-14T18:08:51.111253Z",
     "iopub.status.busy": "2021-08-14T18:08:51.110589Z",
     "iopub.status.idle": "2021-08-14T18:08:51.145160Z",
     "shell.execute_reply": "2021-08-14T18:08:51.145824Z",
     "shell.execute_reply.started": "2021-08-14T18:02:19.71648Z"
    },
    "papermill": {
     "duration": 0.099206,
     "end_time": "2021-08-14T18:08:51.146009",
     "exception": false,
     "start_time": "2021-08-14T18:08:51.046803",
     "status": "completed"
    },
    "tags": []
   },
   "outputs": [
    {
     "name": "stdout",
     "output_type": "stream",
     "text": [
      "Alley =  93.77\n",
      "MasVnrType =  0.55\n",
      "BsmtQual =  2.53\n",
      "BsmtCond =  2.53\n",
      "BsmtExposure =  2.60\n",
      "BsmtFinType1 =  2.53\n",
      "BsmtFinType2 =  2.60\n",
      "Electrical =  0.07\n",
      "FireplaceQu =  47.26\n",
      "GarageType =  5.55\n",
      "GarageFinish =  5.55\n",
      "GarageQual =  5.55\n",
      "GarageCond =  5.55\n",
      "PoolQC =  99.52\n",
      "Fence =  80.75\n",
      "MiscFeature =  96.30\n"
     ]
    }
   ],
   "source": [
    "#cheking which categorical variables are having missing value\n",
    "columns=char_1.columns\n",
    "\n",
    "for column in columns:\n",
    "    if char_1[column].isnull().sum()>0:\n",
    "        per=((char_1[column].isnull().sum())/(len(x)))*100  \n",
    "        per=format(per,\".2f\")\n",
    "        print(f'{column} =  {per}')"
   ]
  },
  {
   "cell_type": "code",
   "execution_count": 17,
   "id": "0dce6de1",
   "metadata": {
    "execution": {
     "iopub.execute_input": "2021-08-14T18:08:51.274848Z",
     "iopub.status.busy": "2021-08-14T18:08:51.274212Z",
     "iopub.status.idle": "2021-08-14T18:08:51.276081Z",
     "shell.execute_reply": "2021-08-14T18:08:51.276552Z",
     "shell.execute_reply.started": "2021-08-14T18:02:19.754468Z"
    },
    "papermill": {
     "duration": 0.070333,
     "end_time": "2021-08-14T18:08:51.276712",
     "exception": false,
     "start_time": "2021-08-14T18:08:51.206379",
     "status": "completed"
    },
    "tags": []
   },
   "outputs": [],
   "source": [
    "#droping variables which have 75% of missing values\n",
    "a=['Alley','PoolQC','Fence','MiscFeature']\n",
    "char_1=char_1.drop(a,axis=1)"
   ]
  },
  {
   "cell_type": "code",
   "execution_count": 18,
   "id": "0c00c5ee",
   "metadata": {
    "execution": {
     "iopub.execute_input": "2021-08-14T18:08:51.402552Z",
     "iopub.status.busy": "2021-08-14T18:08:51.401883Z",
     "iopub.status.idle": "2021-08-14T18:08:51.432405Z",
     "shell.execute_reply": "2021-08-14T18:08:51.432983Z",
     "shell.execute_reply.started": "2021-08-14T18:02:19.765669Z"
    },
    "papermill": {
     "duration": 0.095247,
     "end_time": "2021-08-14T18:08:51.433169",
     "exception": false,
     "start_time": "2021-08-14T18:08:51.337922",
     "status": "completed"
    },
    "tags": []
   },
   "outputs": [
    {
     "data": {
      "text/plain": [
       "MSZoning         0\n",
       "Street           0\n",
       "LotShape         0\n",
       "LandContour      0\n",
       "Utilities        0\n",
       "LotConfig        0\n",
       "LandSlope        0\n",
       "Neighborhood     0\n",
       "Condition1       0\n",
       "Condition2       0\n",
       "BldgType         0\n",
       "HouseStyle       0\n",
       "RoofStyle        0\n",
       "RoofMatl         0\n",
       "Exterior1st      0\n",
       "Exterior2nd      0\n",
       "MasVnrType       0\n",
       "ExterQual        0\n",
       "ExterCond        0\n",
       "Foundation       0\n",
       "BsmtQual         0\n",
       "BsmtCond         0\n",
       "BsmtExposure     0\n",
       "BsmtFinType1     0\n",
       "BsmtFinType2     0\n",
       "Heating          0\n",
       "HeatingQC        0\n",
       "CentralAir       0\n",
       "Electrical       0\n",
       "KitchenQual      0\n",
       "Functional       0\n",
       "FireplaceQu      0\n",
       "GarageType       0\n",
       "GarageFinish     0\n",
       "GarageQual       0\n",
       "GarageCond       0\n",
       "PavedDrive       0\n",
       "SaleType         0\n",
       "SaleCondition    0\n",
       "MSSubClass       0\n",
       "OverallQual      0\n",
       "OverallCond      0\n",
       "BsmtFullBath     0\n",
       "BsmtHalfBath     0\n",
       "FullBath         0\n",
       "HalfBath         0\n",
       "BedroomAbvGr     0\n",
       "KitchenAbvGr     0\n",
       "TotRmsAbvGrd     0\n",
       "Fireplaces       0\n",
       "GarageCars       0\n",
       "3SsnPorch        0\n",
       "PoolArea         0\n",
       "MoSold           0\n",
       "YrSold           0\n",
       "dtype: int64"
      ]
     },
     "execution_count": 18,
     "metadata": {},
     "output_type": "execute_result"
    }
   ],
   "source": [
    "#filling the missing values \n",
    "char1=char_1.fillna({'FireplaceQu': char_1.FireplaceQu.mode()[0],'MasVnrType':char_1.MasVnrType.mode()[0],\n",
    "                    'BsmtQual':char_1.BsmtQual.mode()[0],'BsmtCond':char_1.BsmtCond.mode()[0],\n",
    "                    'BsmtExposure':char_1.BsmtExposure.mode()[0],'BsmtFinType1':char_1.BsmtFinType1.mode()[0],\n",
    "                    'BsmtFinType2':char_1.BsmtFinType2.mode()[0],'Electrical':char_1.Electrical.mode()[0],\n",
    "                    'GarageType':char_1.GarageType.mode()[0],'GarageFinish':char_1.GarageFinish.mode()[0],\n",
    "                    'GarageQual':char_1.GarageQual.mode()[0],'GarageCond':char_1.GarageCond.mode()[0]})\n",
    "char1.isnull().sum()"
   ]
  },
  {
   "cell_type": "code",
   "execution_count": 19,
   "id": "b39368e0",
   "metadata": {
    "execution": {
     "iopub.execute_input": "2021-08-14T18:08:51.559955Z",
     "iopub.status.busy": "2021-08-14T18:08:51.559292Z",
     "iopub.status.idle": "2021-08-14T18:08:51.572459Z",
     "shell.execute_reply": "2021-08-14T18:08:51.571858Z",
     "shell.execute_reply.started": "2021-08-14T18:02:19.802217Z"
    },
    "papermill": {
     "duration": 0.077097,
     "end_time": "2021-08-14T18:08:51.572636",
     "exception": false,
     "start_time": "2021-08-14T18:08:51.495539",
     "status": "completed"
    },
    "tags": []
   },
   "outputs": [
    {
     "name": "stdout",
     "output_type": "stream",
     "text": [
      "LotFrontage =  17.74\n",
      "MasVnrArea =  0.55\n",
      "GarageYrBlt =  5.55\n"
     ]
    }
   ],
   "source": [
    "#cheking which numerical variables are having missing value\n",
    "columns=num.columns\n",
    "\n",
    "for column in columns:\n",
    "    if num[column].isnull().sum()>0:\n",
    "        per1=((num[column].isnull().sum())/(len(x)))*100  \n",
    "        per1=format(per1,\".2f\")\n",
    "        print(f'{column} =  {per1}')"
   ]
  },
  {
   "cell_type": "code",
   "execution_count": 20,
   "id": "da6e527f",
   "metadata": {
    "execution": {
     "iopub.execute_input": "2021-08-14T18:08:51.701630Z",
     "iopub.status.busy": "2021-08-14T18:08:51.700598Z",
     "iopub.status.idle": "2021-08-14T18:08:51.711356Z",
     "shell.execute_reply": "2021-08-14T18:08:51.711819Z",
     "shell.execute_reply.started": "2021-08-14T18:02:19.817246Z"
    },
    "papermill": {
     "duration": 0.07757,
     "end_time": "2021-08-14T18:08:51.712019",
     "exception": false,
     "start_time": "2021-08-14T18:08:51.634449",
     "status": "completed"
    },
    "tags": []
   },
   "outputs": [
    {
     "data": {
      "text/plain": [
       "LotFrontage      0\n",
       "LotArea          0\n",
       "YearBuilt        0\n",
       "YearRemodAdd     0\n",
       "MasVnrArea       0\n",
       "BsmtFinSF1       0\n",
       "BsmtFinSF2       0\n",
       "BsmtUnfSF        0\n",
       "TotalBsmtSF      0\n",
       "1stFlrSF         0\n",
       "2ndFlrSF         0\n",
       "LowQualFinSF     0\n",
       "GrLivArea        0\n",
       "GarageYrBlt      0\n",
       "GarageArea       0\n",
       "WoodDeckSF       0\n",
       "OpenPorchSF      0\n",
       "EnclosedPorch    0\n",
       "ScreenPorch      0\n",
       "MiscVal          0\n",
       "dtype: int64"
      ]
     },
     "execution_count": 20,
     "metadata": {},
     "output_type": "execute_result"
    }
   ],
   "source": [
    "#filling the missing values\n",
    "num1=num.fillna({'LotFrontage' : num.LotFrontage.mean(),'MasVnrArea':num.MasVnrArea.mean(), 'GarageYrBlt':num.GarageYrBlt.mean()})\n",
    "num1.isnull().sum()"
   ]
  },
  {
   "cell_type": "code",
   "execution_count": 21,
   "id": "adeb09b3",
   "metadata": {
    "execution": {
     "iopub.execute_input": "2021-08-14T18:08:51.840347Z",
     "iopub.status.busy": "2021-08-14T18:08:51.839326Z",
     "iopub.status.idle": "2021-08-14T18:08:51.844884Z",
     "shell.execute_reply": "2021-08-14T18:08:51.845408Z",
     "shell.execute_reply.started": "2021-08-14T18:02:19.831619Z"
    },
    "papermill": {
     "duration": 0.071501,
     "end_time": "2021-08-14T18:08:51.845574",
     "exception": false,
     "start_time": "2021-08-14T18:08:51.774073",
     "status": "completed"
    },
    "tags": []
   },
   "outputs": [
    {
     "data": {
      "text/plain": [
       "((1460, 55), (1460, 20))"
      ]
     },
     "execution_count": 21,
     "metadata": {},
     "output_type": "execute_result"
    }
   ],
   "source": [
    "#checking shapes\n",
    "char1.shape, num1.shape"
   ]
  },
  {
   "cell_type": "markdown",
   "id": "d955ad21",
   "metadata": {
    "papermill": {
     "duration": 0.061927,
     "end_time": "2021-08-14T18:08:51.969614",
     "exception": false,
     "start_time": "2021-08-14T18:08:51.907687",
     "status": "completed"
    },
    "tags": []
   },
   "source": []
  },
  {
   "cell_type": "markdown",
   "id": "3896da0f",
   "metadata": {
    "papermill": {
     "duration": 0.061894,
     "end_time": "2021-08-14T18:08:52.094329",
     "exception": false,
     "start_time": "2021-08-14T18:08:52.032435",
     "status": "completed"
    },
    "tags": []
   },
   "source": [
    "# Duplicate Values handeling"
   ]
  },
  {
   "cell_type": "code",
   "execution_count": 22,
   "id": "b390599a",
   "metadata": {
    "execution": {
     "iopub.execute_input": "2021-08-14T18:08:52.226900Z",
     "iopub.status.busy": "2021-08-14T18:08:52.225905Z",
     "iopub.status.idle": "2021-08-14T18:08:52.251036Z",
     "shell.execute_reply": "2021-08-14T18:08:52.250477Z",
     "shell.execute_reply.started": "2021-08-14T18:02:19.844358Z"
    },
    "papermill": {
     "duration": 0.091366,
     "end_time": "2021-08-14T18:08:52.251208",
     "exception": false,
     "start_time": "2021-08-14T18:08:52.159842",
     "status": "completed"
    },
    "tags": []
   },
   "outputs": [
    {
     "data": {
      "text/plain": [
       "(1, 3)"
      ]
     },
     "execution_count": 22,
     "metadata": {},
     "output_type": "execute_result"
    }
   ],
   "source": [
    "#checking any duplicate values are there or not\n",
    "char1.duplicated().sum(),num1.duplicated().sum()"
   ]
  },
  {
   "cell_type": "code",
   "execution_count": 23,
   "id": "5aeab402",
   "metadata": {
    "execution": {
     "iopub.execute_input": "2021-08-14T18:08:52.384093Z",
     "iopub.status.busy": "2021-08-14T18:08:52.383131Z",
     "iopub.status.idle": "2021-08-14T18:08:52.428573Z",
     "shell.execute_reply": "2021-08-14T18:08:52.428064Z",
     "shell.execute_reply.started": "2021-08-14T18:02:19.880065Z"
    },
    "papermill": {
     "duration": 0.114547,
     "end_time": "2021-08-14T18:08:52.428716",
     "exception": false,
     "start_time": "2021-08-14T18:08:52.314169",
     "status": "completed"
    },
    "tags": []
   },
   "outputs": [
    {
     "data": {
      "text/html": [
       "<div>\n",
       "<style scoped>\n",
       "    .dataframe tbody tr th:only-of-type {\n",
       "        vertical-align: middle;\n",
       "    }\n",
       "\n",
       "    .dataframe tbody tr th {\n",
       "        vertical-align: top;\n",
       "    }\n",
       "\n",
       "    .dataframe thead th {\n",
       "        text-align: right;\n",
       "    }\n",
       "</style>\n",
       "<table border=\"1\" class=\"dataframe\">\n",
       "  <thead>\n",
       "    <tr style=\"text-align: right;\">\n",
       "      <th></th>\n",
       "      <th>LotFrontage</th>\n",
       "      <th>LotArea</th>\n",
       "      <th>YearBuilt</th>\n",
       "      <th>YearRemodAdd</th>\n",
       "      <th>MasVnrArea</th>\n",
       "      <th>BsmtFinSF1</th>\n",
       "      <th>BsmtFinSF2</th>\n",
       "      <th>BsmtUnfSF</th>\n",
       "      <th>TotalBsmtSF</th>\n",
       "      <th>1stFlrSF</th>\n",
       "      <th>2ndFlrSF</th>\n",
       "      <th>LowQualFinSF</th>\n",
       "      <th>GrLivArea</th>\n",
       "      <th>GarageYrBlt</th>\n",
       "      <th>GarageArea</th>\n",
       "      <th>WoodDeckSF</th>\n",
       "      <th>OpenPorchSF</th>\n",
       "      <th>EnclosedPorch</th>\n",
       "      <th>ScreenPorch</th>\n",
       "      <th>MiscVal</th>\n",
       "    </tr>\n",
       "  </thead>\n",
       "  <tbody>\n",
       "    <tr>\n",
       "      <th>0</th>\n",
       "      <td>65.0</td>\n",
       "      <td>8450</td>\n",
       "      <td>2003</td>\n",
       "      <td>2003</td>\n",
       "      <td>196.0</td>\n",
       "      <td>706</td>\n",
       "      <td>0</td>\n",
       "      <td>150</td>\n",
       "      <td>856</td>\n",
       "      <td>856</td>\n",
       "      <td>854</td>\n",
       "      <td>0</td>\n",
       "      <td>1710</td>\n",
       "      <td>2003.0</td>\n",
       "      <td>548</td>\n",
       "      <td>0</td>\n",
       "      <td>61</td>\n",
       "      <td>0</td>\n",
       "      <td>0</td>\n",
       "      <td>0</td>\n",
       "    </tr>\n",
       "    <tr>\n",
       "      <th>1</th>\n",
       "      <td>80.0</td>\n",
       "      <td>9600</td>\n",
       "      <td>1976</td>\n",
       "      <td>1976</td>\n",
       "      <td>0.0</td>\n",
       "      <td>978</td>\n",
       "      <td>0</td>\n",
       "      <td>284</td>\n",
       "      <td>1262</td>\n",
       "      <td>1262</td>\n",
       "      <td>0</td>\n",
       "      <td>0</td>\n",
       "      <td>1262</td>\n",
       "      <td>1976.0</td>\n",
       "      <td>460</td>\n",
       "      <td>298</td>\n",
       "      <td>0</td>\n",
       "      <td>0</td>\n",
       "      <td>0</td>\n",
       "      <td>0</td>\n",
       "    </tr>\n",
       "    <tr>\n",
       "      <th>2</th>\n",
       "      <td>68.0</td>\n",
       "      <td>11250</td>\n",
       "      <td>2001</td>\n",
       "      <td>2002</td>\n",
       "      <td>162.0</td>\n",
       "      <td>486</td>\n",
       "      <td>0</td>\n",
       "      <td>434</td>\n",
       "      <td>920</td>\n",
       "      <td>920</td>\n",
       "      <td>866</td>\n",
       "      <td>0</td>\n",
       "      <td>1786</td>\n",
       "      <td>2001.0</td>\n",
       "      <td>608</td>\n",
       "      <td>0</td>\n",
       "      <td>42</td>\n",
       "      <td>0</td>\n",
       "      <td>0</td>\n",
       "      <td>0</td>\n",
       "    </tr>\n",
       "    <tr>\n",
       "      <th>3</th>\n",
       "      <td>60.0</td>\n",
       "      <td>9550</td>\n",
       "      <td>1915</td>\n",
       "      <td>1970</td>\n",
       "      <td>0.0</td>\n",
       "      <td>216</td>\n",
       "      <td>0</td>\n",
       "      <td>540</td>\n",
       "      <td>756</td>\n",
       "      <td>961</td>\n",
       "      <td>756</td>\n",
       "      <td>0</td>\n",
       "      <td>1717</td>\n",
       "      <td>1998.0</td>\n",
       "      <td>642</td>\n",
       "      <td>0</td>\n",
       "      <td>35</td>\n",
       "      <td>272</td>\n",
       "      <td>0</td>\n",
       "      <td>0</td>\n",
       "    </tr>\n",
       "    <tr>\n",
       "      <th>4</th>\n",
       "      <td>84.0</td>\n",
       "      <td>14260</td>\n",
       "      <td>2000</td>\n",
       "      <td>2000</td>\n",
       "      <td>350.0</td>\n",
       "      <td>655</td>\n",
       "      <td>0</td>\n",
       "      <td>490</td>\n",
       "      <td>1145</td>\n",
       "      <td>1145</td>\n",
       "      <td>1053</td>\n",
       "      <td>0</td>\n",
       "      <td>2198</td>\n",
       "      <td>2000.0</td>\n",
       "      <td>836</td>\n",
       "      <td>192</td>\n",
       "      <td>84</td>\n",
       "      <td>0</td>\n",
       "      <td>0</td>\n",
       "      <td>0</td>\n",
       "    </tr>\n",
       "    <tr>\n",
       "      <th>...</th>\n",
       "      <td>...</td>\n",
       "      <td>...</td>\n",
       "      <td>...</td>\n",
       "      <td>...</td>\n",
       "      <td>...</td>\n",
       "      <td>...</td>\n",
       "      <td>...</td>\n",
       "      <td>...</td>\n",
       "      <td>...</td>\n",
       "      <td>...</td>\n",
       "      <td>...</td>\n",
       "      <td>...</td>\n",
       "      <td>...</td>\n",
       "      <td>...</td>\n",
       "      <td>...</td>\n",
       "      <td>...</td>\n",
       "      <td>...</td>\n",
       "      <td>...</td>\n",
       "      <td>...</td>\n",
       "      <td>...</td>\n",
       "    </tr>\n",
       "    <tr>\n",
       "      <th>1455</th>\n",
       "      <td>62.0</td>\n",
       "      <td>7917</td>\n",
       "      <td>1999</td>\n",
       "      <td>2000</td>\n",
       "      <td>0.0</td>\n",
       "      <td>0</td>\n",
       "      <td>0</td>\n",
       "      <td>953</td>\n",
       "      <td>953</td>\n",
       "      <td>953</td>\n",
       "      <td>694</td>\n",
       "      <td>0</td>\n",
       "      <td>1647</td>\n",
       "      <td>1999.0</td>\n",
       "      <td>460</td>\n",
       "      <td>0</td>\n",
       "      <td>40</td>\n",
       "      <td>0</td>\n",
       "      <td>0</td>\n",
       "      <td>0</td>\n",
       "    </tr>\n",
       "    <tr>\n",
       "      <th>1456</th>\n",
       "      <td>85.0</td>\n",
       "      <td>13175</td>\n",
       "      <td>1978</td>\n",
       "      <td>1988</td>\n",
       "      <td>119.0</td>\n",
       "      <td>790</td>\n",
       "      <td>163</td>\n",
       "      <td>589</td>\n",
       "      <td>1542</td>\n",
       "      <td>2073</td>\n",
       "      <td>0</td>\n",
       "      <td>0</td>\n",
       "      <td>2073</td>\n",
       "      <td>1978.0</td>\n",
       "      <td>500</td>\n",
       "      <td>349</td>\n",
       "      <td>0</td>\n",
       "      <td>0</td>\n",
       "      <td>0</td>\n",
       "      <td>0</td>\n",
       "    </tr>\n",
       "    <tr>\n",
       "      <th>1457</th>\n",
       "      <td>66.0</td>\n",
       "      <td>9042</td>\n",
       "      <td>1941</td>\n",
       "      <td>2006</td>\n",
       "      <td>0.0</td>\n",
       "      <td>275</td>\n",
       "      <td>0</td>\n",
       "      <td>877</td>\n",
       "      <td>1152</td>\n",
       "      <td>1188</td>\n",
       "      <td>1152</td>\n",
       "      <td>0</td>\n",
       "      <td>2340</td>\n",
       "      <td>1941.0</td>\n",
       "      <td>252</td>\n",
       "      <td>0</td>\n",
       "      <td>60</td>\n",
       "      <td>0</td>\n",
       "      <td>0</td>\n",
       "      <td>2500</td>\n",
       "    </tr>\n",
       "    <tr>\n",
       "      <th>1458</th>\n",
       "      <td>68.0</td>\n",
       "      <td>9717</td>\n",
       "      <td>1950</td>\n",
       "      <td>1996</td>\n",
       "      <td>0.0</td>\n",
       "      <td>49</td>\n",
       "      <td>1029</td>\n",
       "      <td>0</td>\n",
       "      <td>1078</td>\n",
       "      <td>1078</td>\n",
       "      <td>0</td>\n",
       "      <td>0</td>\n",
       "      <td>1078</td>\n",
       "      <td>1950.0</td>\n",
       "      <td>240</td>\n",
       "      <td>366</td>\n",
       "      <td>0</td>\n",
       "      <td>112</td>\n",
       "      <td>0</td>\n",
       "      <td>0</td>\n",
       "    </tr>\n",
       "    <tr>\n",
       "      <th>1459</th>\n",
       "      <td>75.0</td>\n",
       "      <td>9937</td>\n",
       "      <td>1965</td>\n",
       "      <td>1965</td>\n",
       "      <td>0.0</td>\n",
       "      <td>830</td>\n",
       "      <td>290</td>\n",
       "      <td>136</td>\n",
       "      <td>1256</td>\n",
       "      <td>1256</td>\n",
       "      <td>0</td>\n",
       "      <td>0</td>\n",
       "      <td>1256</td>\n",
       "      <td>1965.0</td>\n",
       "      <td>276</td>\n",
       "      <td>736</td>\n",
       "      <td>68</td>\n",
       "      <td>0</td>\n",
       "      <td>0</td>\n",
       "      <td>0</td>\n",
       "    </tr>\n",
       "  </tbody>\n",
       "</table>\n",
       "<p>1457 rows × 20 columns</p>\n",
       "</div>"
      ],
      "text/plain": [
       "      LotFrontage  LotArea  YearBuilt  YearRemodAdd  MasVnrArea  BsmtFinSF1  \\\n",
       "0            65.0     8450       2003          2003       196.0         706   \n",
       "1            80.0     9600       1976          1976         0.0         978   \n",
       "2            68.0    11250       2001          2002       162.0         486   \n",
       "3            60.0     9550       1915          1970         0.0         216   \n",
       "4            84.0    14260       2000          2000       350.0         655   \n",
       "...           ...      ...        ...           ...         ...         ...   \n",
       "1455         62.0     7917       1999          2000         0.0           0   \n",
       "1456         85.0    13175       1978          1988       119.0         790   \n",
       "1457         66.0     9042       1941          2006         0.0         275   \n",
       "1458         68.0     9717       1950          1996         0.0          49   \n",
       "1459         75.0     9937       1965          1965         0.0         830   \n",
       "\n",
       "      BsmtFinSF2  BsmtUnfSF  TotalBsmtSF  1stFlrSF  2ndFlrSF  LowQualFinSF  \\\n",
       "0              0        150          856       856       854             0   \n",
       "1              0        284         1262      1262         0             0   \n",
       "2              0        434          920       920       866             0   \n",
       "3              0        540          756       961       756             0   \n",
       "4              0        490         1145      1145      1053             0   \n",
       "...          ...        ...          ...       ...       ...           ...   \n",
       "1455           0        953          953       953       694             0   \n",
       "1456         163        589         1542      2073         0             0   \n",
       "1457           0        877         1152      1188      1152             0   \n",
       "1458        1029          0         1078      1078         0             0   \n",
       "1459         290        136         1256      1256         0             0   \n",
       "\n",
       "      GrLivArea  GarageYrBlt  GarageArea  WoodDeckSF  OpenPorchSF  \\\n",
       "0          1710       2003.0         548           0           61   \n",
       "1          1262       1976.0         460         298            0   \n",
       "2          1786       2001.0         608           0           42   \n",
       "3          1717       1998.0         642           0           35   \n",
       "4          2198       2000.0         836         192           84   \n",
       "...         ...          ...         ...         ...          ...   \n",
       "1455       1647       1999.0         460           0           40   \n",
       "1456       2073       1978.0         500         349            0   \n",
       "1457       2340       1941.0         252           0           60   \n",
       "1458       1078       1950.0         240         366            0   \n",
       "1459       1256       1965.0         276         736           68   \n",
       "\n",
       "      EnclosedPorch  ScreenPorch  MiscVal  \n",
       "0                 0            0        0  \n",
       "1                 0            0        0  \n",
       "2                 0            0        0  \n",
       "3               272            0        0  \n",
       "4                 0            0        0  \n",
       "...             ...          ...      ...  \n",
       "1455              0            0        0  \n",
       "1456              0            0        0  \n",
       "1457              0            0     2500  \n",
       "1458            112            0        0  \n",
       "1459              0            0        0  \n",
       "\n",
       "[1457 rows x 20 columns]"
      ]
     },
     "execution_count": 23,
     "metadata": {},
     "output_type": "execute_result"
    }
   ],
   "source": [
    "# droping duplicate values\n",
    "char1.drop_duplicates()\n",
    "num1.drop_duplicates()"
   ]
  },
  {
   "cell_type": "markdown",
   "id": "e055c8b9",
   "metadata": {
    "papermill": {
     "duration": 0.063231,
     "end_time": "2021-08-14T18:08:52.556670",
     "exception": false,
     "start_time": "2021-08-14T18:08:52.493439",
     "status": "completed"
    },
    "tags": []
   },
   "source": [
    "# Correlation "
   ]
  },
  {
   "cell_type": "code",
   "execution_count": 24,
   "id": "25059ba8",
   "metadata": {
    "execution": {
     "iopub.execute_input": "2021-08-14T18:08:52.693040Z",
     "iopub.status.busy": "2021-08-14T18:08:52.692362Z",
     "iopub.status.idle": "2021-08-14T18:08:53.330767Z",
     "shell.execute_reply": "2021-08-14T18:08:53.331277Z",
     "shell.execute_reply.started": "2021-08-14T18:02:19.927895Z"
    },
    "papermill": {
     "duration": 0.709892,
     "end_time": "2021-08-14T18:08:53.331460",
     "exception": false,
     "start_time": "2021-08-14T18:08:52.621568",
     "status": "completed"
    },
    "tags": []
   },
   "outputs": [
    {
     "data": {
      "text/plain": [
       "<AxesSubplot:>"
      ]
     },
     "execution_count": 24,
     "metadata": {},
     "output_type": "execute_result"
    },
    {
     "data": {
      "image/png": "[encoded data removed]",
      "text/plain": [
       "<Figure size 864x648 with 2 Axes>"
      ]
     },
     "metadata": {
      "needs_background": "light"
     },
     "output_type": "display_data"
    }
   ],
   "source": [
    "from scipy import stats\n",
    "corrs=num.corr()\n",
    "f,ax=plt.subplots(figsize=(12,9))\n",
    "sns.heatmap(corrs,vmax=.8,square=True)"
   ]
  },
  {
   "cell_type": "code",
   "execution_count": 25,
   "id": "db49b9ec",
   "metadata": {
    "execution": {
     "iopub.execute_input": "2021-08-14T18:08:53.466732Z",
     "iopub.status.busy": "2021-08-14T18:08:53.466130Z",
     "iopub.status.idle": "2021-08-14T18:08:53.480718Z",
     "shell.execute_reply": "2021-08-14T18:08:53.479973Z",
     "shell.execute_reply.started": "2021-08-14T18:02:20.553939Z"
    },
    "papermill": {
     "duration": 0.083406,
     "end_time": "2021-08-14T18:08:53.480914",
     "exception": false,
     "start_time": "2021-08-14T18:08:53.397508",
     "status": "completed"
    },
    "tags": []
   },
   "outputs": [
    {
     "name": "stdout",
     "output_type": "stream",
     "text": [
      "\n",
      "['1stFlrSF', 'GarageYrBlt']\n"
     ]
    }
   ],
   "source": [
    "# checking variables which are highly correlated\n",
    "upper_tri = corrs.where(np.triu(np.ones(corrs.shape),k=1).astype(np.bool))\n",
    "to_drop = [column for column in upper_tri.columns if any(upper_tri[column] > 0.8)]\n",
    "print(); print(to_drop)"
   ]
  },
  {
   "cell_type": "code",
   "execution_count": 26,
   "id": "1276e87a",
   "metadata": {
    "execution": {
     "iopub.execute_input": "2021-08-14T18:08:53.620185Z",
     "iopub.status.busy": "2021-08-14T18:08:53.619554Z",
     "iopub.status.idle": "2021-08-14T18:08:53.622615Z",
     "shell.execute_reply": "2021-08-14T18:08:53.622113Z",
     "shell.execute_reply.started": "2021-08-14T18:02:20.568339Z"
    },
    "papermill": {
     "duration": 0.074555,
     "end_time": "2021-08-14T18:08:53.622746",
     "exception": false,
     "start_time": "2021-08-14T18:08:53.548191",
     "status": "completed"
    },
    "tags": []
   },
   "outputs": [],
   "source": [
    "# dropping variables which are highly correlated\n",
    "num1=num1.drop(['1stFlrSF','GarageYrBlt'],axis=1)"
   ]
  },
  {
   "cell_type": "markdown",
   "id": "5917c0b8",
   "metadata": {
    "papermill": {
     "duration": 0.065847,
     "end_time": "2021-08-14T18:08:53.754716",
     "exception": false,
     "start_time": "2021-08-14T18:08:53.688869",
     "status": "completed"
    },
    "tags": []
   },
   "source": [
    "# Part 1 - Bi Variate Analysis (Feature Discretization)"
   ]
  },
  {
   "cell_type": "code",
   "execution_count": 27,
   "id": "36146a6e",
   "metadata": {
    "execution": {
     "iopub.execute_input": "2021-08-14T18:08:53.895095Z",
     "iopub.status.busy": "2021-08-14T18:08:53.894395Z",
     "iopub.status.idle": "2021-08-14T18:08:53.897783Z",
     "shell.execute_reply": "2021-08-14T18:08:53.897155Z",
     "shell.execute_reply.started": "2021-08-14T18:02:20.582594Z"
    },
    "papermill": {
     "duration": 0.076905,
     "end_time": "2021-08-14T18:08:53.897929",
     "exception": false,
     "start_time": "2021-08-14T18:08:53.821024",
     "status": "completed"
    },
    "tags": []
   },
   "outputs": [],
   "source": [
    "# converting datatype\n",
    "num1['LotFrontage']=num1['LotFrontage'].astype(int)\n",
    "num1['MasVnrArea']=num1['MasVnrArea'].astype(int)"
   ]
  },
  {
   "cell_type": "code",
   "execution_count": 28,
   "id": "ae8eafa3",
   "metadata": {
    "execution": {
     "iopub.execute_input": "2021-08-14T18:08:54.039279Z",
     "iopub.status.busy": "2021-08-14T18:08:54.038508Z",
     "iopub.status.idle": "2021-08-14T18:08:54.083346Z",
     "shell.execute_reply": "2021-08-14T18:08:54.082815Z",
     "shell.execute_reply.started": "2021-08-14T18:02:20.598431Z"
    },
    "papermill": {
     "duration": 0.119014,
     "end_time": "2021-08-14T18:08:54.083486",
     "exception": false,
     "start_time": "2021-08-14T18:08:53.964472",
     "status": "completed"
    },
    "tags": []
   },
   "outputs": [
    {
     "name": "stderr",
     "output_type": "stream",
     "text": [
      "/opt/conda/lib/python3.7/site-packages/sklearn/preprocessing/_discretization.py:202: UserWarning: Bins whose width are too small (i.e., <= 1e-8) in feature 0 are removed. Consider decreasing the number of bins.\n",
      "  'decreasing the number of bins.' % jj)\n",
      "/opt/conda/lib/python3.7/site-packages/sklearn/preprocessing/_discretization.py:202: UserWarning: Bins whose width are too small (i.e., <= 1e-8) in feature 3 are removed. Consider decreasing the number of bins.\n",
      "  'decreasing the number of bins.' % jj)\n",
      "/opt/conda/lib/python3.7/site-packages/sklearn/preprocessing/_discretization.py:202: UserWarning: Bins whose width are too small (i.e., <= 1e-8) in feature 4 are removed. Consider decreasing the number of bins.\n",
      "  'decreasing the number of bins.' % jj)\n",
      "/opt/conda/lib/python3.7/site-packages/sklearn/preprocessing/_discretization.py:202: UserWarning: Bins whose width are too small (i.e., <= 1e-8) in feature 5 are removed. Consider decreasing the number of bins.\n",
      "  'decreasing the number of bins.' % jj)\n",
      "/opt/conda/lib/python3.7/site-packages/sklearn/preprocessing/_discretization.py:202: UserWarning: Bins whose width are too small (i.e., <= 1e-8) in feature 6 are removed. Consider decreasing the number of bins.\n",
      "  'decreasing the number of bins.' % jj)\n",
      "/opt/conda/lib/python3.7/site-packages/sklearn/preprocessing/_discretization.py:202: UserWarning: Bins whose width are too small (i.e., <= 1e-8) in feature 9 are removed. Consider decreasing the number of bins.\n",
      "  'decreasing the number of bins.' % jj)\n",
      "/opt/conda/lib/python3.7/site-packages/sklearn/preprocessing/_discretization.py:202: UserWarning: Bins whose width are too small (i.e., <= 1e-8) in feature 10 are removed. Consider decreasing the number of bins.\n",
      "  'decreasing the number of bins.' % jj)\n",
      "/opt/conda/lib/python3.7/site-packages/sklearn/preprocessing/_discretization.py:202: UserWarning: Bins whose width are too small (i.e., <= 1e-8) in feature 13 are removed. Consider decreasing the number of bins.\n",
      "  'decreasing the number of bins.' % jj)\n",
      "/opt/conda/lib/python3.7/site-packages/sklearn/preprocessing/_discretization.py:202: UserWarning: Bins whose width are too small (i.e., <= 1e-8) in feature 14 are removed. Consider decreasing the number of bins.\n",
      "  'decreasing the number of bins.' % jj)\n",
      "/opt/conda/lib/python3.7/site-packages/sklearn/preprocessing/_discretization.py:202: UserWarning: Bins whose width are too small (i.e., <= 1e-8) in feature 15 are removed. Consider decreasing the number of bins.\n",
      "  'decreasing the number of bins.' % jj)\n",
      "/opt/conda/lib/python3.7/site-packages/sklearn/preprocessing/_discretization.py:202: UserWarning: Bins whose width are too small (i.e., <= 1e-8) in feature 16 are removed. Consider decreasing the number of bins.\n",
      "  'decreasing the number of bins.' % jj)\n",
      "/opt/conda/lib/python3.7/site-packages/sklearn/preprocessing/_discretization.py:202: UserWarning: Bins whose width are too small (i.e., <= 1e-8) in feature 17 are removed. Consider decreasing the number of bins.\n",
      "  'decreasing the number of bins.' % jj)\n"
     ]
    },
    {
     "data": {
      "text/html": [
       "<div>\n",
       "<style scoped>\n",
       "    .dataframe tbody tr th:only-of-type {\n",
       "        vertical-align: middle;\n",
       "    }\n",
       "\n",
       "    .dataframe tbody tr th {\n",
       "        vertical-align: top;\n",
       "    }\n",
       "\n",
       "    .dataframe thead th {\n",
       "        text-align: right;\n",
       "    }\n",
       "</style>\n",
       "<table border=\"1\" class=\"dataframe\">\n",
       "  <thead>\n",
       "    <tr style=\"text-align: right;\">\n",
       "      <th></th>\n",
       "      <th>LotFrontage_Rank</th>\n",
       "      <th>LotArea_Rank</th>\n",
       "      <th>YearBuilt_Rank</th>\n",
       "      <th>YearRemodAdd_Rank</th>\n",
       "      <th>MasVnrArea_Rank</th>\n",
       "      <th>BsmtFinSF1_Rank</th>\n",
       "      <th>BsmtFinSF2_Rank</th>\n",
       "      <th>BsmtUnfSF_Rank</th>\n",
       "      <th>TotalBsmtSF_Rank</th>\n",
       "      <th>2ndFlrSF_Rank</th>\n",
       "      <th>LowQualFinSF_Rank</th>\n",
       "      <th>GrLivArea_Rank</th>\n",
       "      <th>GarageArea_Rank</th>\n",
       "      <th>WoodDeckSF_Rank</th>\n",
       "      <th>OpenPorchSF_Rank</th>\n",
       "      <th>EnclosedPorch_Rank</th>\n",
       "      <th>ScreenPorch_Rank</th>\n",
       "      <th>MiscVal_Rank</th>\n",
       "    </tr>\n",
       "  </thead>\n",
       "  <tbody>\n",
       "    <tr>\n",
       "      <th>0</th>\n",
       "      <td>3.0</td>\n",
       "      <td>3.0</td>\n",
       "      <td>8.0</td>\n",
       "      <td>6.0</td>\n",
       "      <td>2.0</td>\n",
       "      <td>4.0</td>\n",
       "      <td>0.0</td>\n",
       "      <td>1.0</td>\n",
       "      <td>3.0</td>\n",
       "      <td>3.0</td>\n",
       "      <td>0.0</td>\n",
       "      <td>7.0</td>\n",
       "      <td>6.0</td>\n",
       "      <td>0.0</td>\n",
       "      <td>3.0</td>\n",
       "      <td>0.0</td>\n",
       "      <td>0.0</td>\n",
       "      <td>0.0</td>\n",
       "    </tr>\n",
       "    <tr>\n",
       "      <th>1</th>\n",
       "      <td>7.0</td>\n",
       "      <td>5.0</td>\n",
       "      <td>5.0</td>\n",
       "      <td>2.0</td>\n",
       "      <td>0.0</td>\n",
       "      <td>5.0</td>\n",
       "      <td>0.0</td>\n",
       "      <td>3.0</td>\n",
       "      <td>7.0</td>\n",
       "      <td>0.0</td>\n",
       "      <td>0.0</td>\n",
       "      <td>3.0</td>\n",
       "      <td>4.0</td>\n",
       "      <td>4.0</td>\n",
       "      <td>0.0</td>\n",
       "      <td>0.0</td>\n",
       "      <td>0.0</td>\n",
       "      <td>0.0</td>\n",
       "    </tr>\n",
       "    <tr>\n",
       "      <th>2</th>\n",
       "      <td>4.0</td>\n",
       "      <td>7.0</td>\n",
       "      <td>7.0</td>\n",
       "      <td>6.0</td>\n",
       "      <td>2.0</td>\n",
       "      <td>2.0</td>\n",
       "      <td>0.0</td>\n",
       "      <td>4.0</td>\n",
       "      <td>4.0</td>\n",
       "      <td>3.0</td>\n",
       "      <td>0.0</td>\n",
       "      <td>7.0</td>\n",
       "      <td>7.0</td>\n",
       "      <td>0.0</td>\n",
       "      <td>2.0</td>\n",
       "      <td>0.0</td>\n",
       "      <td>0.0</td>\n",
       "      <td>0.0</td>\n",
       "    </tr>\n",
       "    <tr>\n",
       "      <th>3</th>\n",
       "      <td>3.0</td>\n",
       "      <td>5.0</td>\n",
       "      <td>0.0</td>\n",
       "      <td>1.0</td>\n",
       "      <td>0.0</td>\n",
       "      <td>0.0</td>\n",
       "      <td>0.0</td>\n",
       "      <td>5.0</td>\n",
       "      <td>2.0</td>\n",
       "      <td>2.0</td>\n",
       "      <td>0.0</td>\n",
       "      <td>7.0</td>\n",
       "      <td>8.0</td>\n",
       "      <td>0.0</td>\n",
       "      <td>1.0</td>\n",
       "      <td>1.0</td>\n",
       "      <td>0.0</td>\n",
       "      <td>0.0</td>\n",
       "    </tr>\n",
       "    <tr>\n",
       "      <th>4</th>\n",
       "      <td>7.0</td>\n",
       "      <td>8.0</td>\n",
       "      <td>7.0</td>\n",
       "      <td>5.0</td>\n",
       "      <td>4.0</td>\n",
       "      <td>4.0</td>\n",
       "      <td>0.0</td>\n",
       "      <td>5.0</td>\n",
       "      <td>6.0</td>\n",
       "      <td>4.0</td>\n",
       "      <td>0.0</td>\n",
       "      <td>9.0</td>\n",
       "      <td>9.0</td>\n",
       "      <td>3.0</td>\n",
       "      <td>4.0</td>\n",
       "      <td>0.0</td>\n",
       "      <td>0.0</td>\n",
       "      <td>0.0</td>\n",
       "    </tr>\n",
       "  </tbody>\n",
       "</table>\n",
       "</div>"
      ],
      "text/plain": [
       "   LotFrontage_Rank  LotArea_Rank  YearBuilt_Rank  YearRemodAdd_Rank  \\\n",
       "0               3.0           3.0             8.0                6.0   \n",
       "1               7.0           5.0             5.0                2.0   \n",
       "2               4.0           7.0             7.0                6.0   \n",
       "3               3.0           5.0             0.0                1.0   \n",
       "4               7.0           8.0             7.0                5.0   \n",
       "\n",
       "   MasVnrArea_Rank  BsmtFinSF1_Rank  BsmtFinSF2_Rank  BsmtUnfSF_Rank  \\\n",
       "0              2.0              4.0              0.0             1.0   \n",
       "1              0.0              5.0              0.0             3.0   \n",
       "2              2.0              2.0              0.0             4.0   \n",
       "3              0.0              0.0              0.0             5.0   \n",
       "4              4.0              4.0              0.0             5.0   \n",
       "\n",
       "   TotalBsmtSF_Rank  2ndFlrSF_Rank  LowQualFinSF_Rank  GrLivArea_Rank  \\\n",
       "0               3.0            3.0                0.0             7.0   \n",
       "1               7.0            0.0                0.0             3.0   \n",
       "2               4.0            3.0                0.0             7.0   \n",
       "3               2.0            2.0                0.0             7.0   \n",
       "4               6.0            4.0                0.0             9.0   \n",
       "\n",
       "   GarageArea_Rank  WoodDeckSF_Rank  OpenPorchSF_Rank  EnclosedPorch_Rank  \\\n",
       "0              6.0              0.0               3.0                 0.0   \n",
       "1              4.0              4.0               0.0                 0.0   \n",
       "2              7.0              0.0               2.0                 0.0   \n",
       "3              8.0              0.0               1.0                 1.0   \n",
       "4              9.0              3.0               4.0                 0.0   \n",
       "\n",
       "   ScreenPorch_Rank  MiscVal_Rank  \n",
       "0               0.0           0.0  \n",
       "1               0.0           0.0  \n",
       "2               0.0           0.0  \n",
       "3               0.0           0.0  \n",
       "4               0.0           0.0  "
      ]
     },
     "execution_count": 28,
     "metadata": {},
     "output_type": "execute_result"
    }
   ],
   "source": [
    "# ranking data into 10 groups of numerical variables/columns\n",
    "from sklearn.preprocessing import KBinsDiscretizer\n",
    "discrete=KBinsDiscretizer(n_bins=10,encode='ordinal', strategy='quantile')\n",
    "num_binned=pd.DataFrame(discrete.fit_transform(num1),index=num1.index, columns=num1.columns).add_suffix('_Rank')\n",
    "num_binned.head()"
   ]
  },
  {
   "cell_type": "code",
   "execution_count": 29,
   "id": "596aa696",
   "metadata": {
    "execution": {
     "iopub.execute_input": "2021-08-14T18:08:54.242391Z",
     "iopub.status.busy": "2021-08-14T18:08:54.227466Z",
     "iopub.status.idle": "2021-08-14T18:09:01.450172Z",
     "shell.execute_reply": "2021-08-14T18:09:01.449443Z",
     "shell.execute_reply.started": "2021-08-14T18:02:20.658404Z"
    },
    "papermill": {
     "duration": 7.299305,
     "end_time": "2021-08-14T18:09:01.450341",
     "exception": false,
     "start_time": "2021-08-14T18:08:54.151036",
     "status": "completed"
    },
    "tags": []
   },
   "outputs": [
    {
     "data": {
      "image/png": "[encoded data removed]",
      "text/plain": [
       "<Figure size 432x288 with 1 Axes>"
      ]
     },
     "metadata": {
      "needs_background": "light"
     },
     "output_type": "display_data"
    },
    {
     "data": {
      "image/png": "[encoded data removed]",
      "text/plain": [
       "<Figure size 432x288 with 1 Axes>"
      ]
     },
     "metadata": {
      "needs_background": "light"
     },
     "output_type": "display_data"
    },
    {
     "data": {
      "image/png": "[encoded data removed]",
      "text/plain": [
       "<Figure size 432x288 with 1 Axes>"
      ]
     },
     "metadata": {
      "needs_background": "light"
     },
     "output_type": "display_data"
    },
    {
     "data": {
      "image/png": "[encoded data removed]",
      "text/plain": [
       "<Figure size 432x288 with 1 Axes>"
      ]
     },
     "metadata": {
      "needs_background": "light"
     },
     "output_type": "display_data"
    },
    {
     "data": {
      "image/png": "[encoded data removed]",
      "text/plain": [
       "<Figure size 432x288 with 1 Axes>"
      ]
     },
     "metadata": {
      "needs_background": "light"
     },
     "output_type": "display_data"
    },
    {
     "data": {
      "image/png": "[encoded data removed]",
      "text/plain": [
       "<Figure size 432x288 with 1 Axes>"
      ]
     },
     "metadata": {
      "needs_background": "light"
     },
     "output_type": "display_data"
    },
    {
     "data": {
      "image/png": "[encoded data removed]",
      "text/plain": [
       "<Figure size 432x288 with 1 Axes>"
      ]
     },
     "metadata": {
      "needs_background": "light"
     },
     "output_type": "display_data"
    },
    {
     "data": {
      "image/png": "[encoded data removed]",
      "text/plain": [
       "<Figure size 432x288 with 1 Axes>"
      ]
     },
     "metadata": {
      "needs_background": "light"
     },
     "output_type": "display_data"
    },
    {
     "data": {
      "image/png": "[encoded data removed]",
      "text/plain": [
       "<Figure size 432x288 with 1 Axes>"
      ]
     },
     "metadata": {
      "needs_background": "light"
     },
     "output_type": "display_data"
    },
    {
     "data": {
      "image/png": "[encoded data removed]",
      "text/plain": [
       "<Figure size 432x288 with 1 Axes>"
      ]
     },
     "metadata": {
      "needs_background": "light"
     },
     "output_type": "display_data"
    },
    {
     "data": {
      "image/png": "[encoded data removed]",
      "text/plain": [
       "<Figure size 432x288 with 1 Axes>"
      ]
     },
     "metadata": {
      "needs_background": "light"
     },
     "output_type": "display_data"
    },
    {
     "data": {
      "image/png": "[encoded data removed]",
      "text/plain": [
       "<Figure size 432x288 with 1 Axes>"
      ]
     },
     "metadata": {
      "needs_background": "light"
     },
     "output_type": "display_data"
    },
    {
     "data": {
      "image/png": "[encoded data removed]",
      "text/plain": [
       "<Figure size 432x288 with 1 Axes>"
      ]
     },
     "metadata": {
      "needs_background": "light"
     },
     "output_type": "display_data"
    },
    {
     "data": {
      "image/png": "[encoded data removed]",
      "text/plain": [
       "<Figure size 432x288 with 1 Axes>"
      ]
     },
     "metadata": {
      "needs_background": "light"
     },
     "output_type": "display_data"
    },
    {
     "data": {
      "image/png": "[encoded data removed]",
      "text/plain": [
       "<Figure size 432x288 with 1 Axes>"
      ]
     },
     "metadata": {
      "needs_background": "light"
     },
     "output_type": "display_data"
    },
    {
     "data": {
      "image/png": "[encoded data removed]",
      "text/plain": [
       "<Figure size 432x288 with 1 Axes>"
      ]
     },
     "metadata": {
      "needs_background": "light"
     },
     "output_type": "display_data"
    },
    {
     "data": {
      "image/png": "[encoded data removed]",
      "text/plain": [
       "<Figure size 432x288 with 1 Axes>"
      ]
     },
     "metadata": {
      "needs_background": "light"
     },
     "output_type": "display_data"
    },
    {
     "data": {
      "image/png": "[encoded data removed]",
      "text/plain": [
       "<Figure size 432x288 with 1 Axes>"
      ]
     },
     "metadata": {
      "needs_background": "light"
     },
     "output_type": "display_data"
    }
   ],
   "source": [
    "# checking raletionship between each groups of a variables with target variable\n",
    "X_bin_combined=pd.concat([y_train,num_binned],axis=1,join='inner')\n",
    "\n",
    "from numpy import mean\n",
    "for col in (num_binned.columns):\n",
    "    plt.figure()\n",
    "    sns.lineplot(x=col,y=y_train.mean(),data=X_bin_combined,color='red')\n",
    "    sns.barplot(x=col, y=\"SalePrice\",data=X_bin_combined, estimator=mean )\n",
    "plt.show()"
   ]
  },
  {
   "cell_type": "code",
   "execution_count": 30,
   "id": "5a228182",
   "metadata": {
    "execution": {
     "iopub.execute_input": "2021-08-14T18:09:01.616865Z",
     "iopub.status.busy": "2021-08-14T18:09:01.615848Z",
     "iopub.status.idle": "2021-08-14T18:09:01.619039Z",
     "shell.execute_reply": "2021-08-14T18:09:01.618532Z",
     "shell.execute_reply.started": "2021-08-14T18:02:28.232378Z"
    },
    "papermill": {
     "duration": 0.08881,
     "end_time": "2021-08-14T18:09:01.619166",
     "exception": false,
     "start_time": "2021-08-14T18:09:01.530356",
     "status": "completed"
    },
    "tags": []
   },
   "outputs": [],
   "source": [
    "# dropping those columns which have sigle barplot and have all barplot values that are less than mean of target variable\n",
    "b=['BsmtFinSF2','LowQualFinSF','EnclosedPorch','ScreenPorch','MiscVal']\n",
    "num1=num1.drop(b,axis=1)"
   ]
  },
  {
   "cell_type": "markdown",
   "id": "7367fe5b",
   "metadata": {
    "papermill": {
     "duration": 0.079467,
     "end_time": "2021-08-14T18:09:01.777869",
     "exception": false,
     "start_time": "2021-08-14T18:09:01.698402",
     "status": "completed"
    },
    "tags": []
   },
   "source": [
    "# Part 2 - Select K Best"
   ]
  },
  {
   "cell_type": "code",
   "execution_count": 31,
   "id": "c1e7ef05",
   "metadata": {
    "execution": {
     "iopub.execute_input": "2021-08-14T18:09:01.947094Z",
     "iopub.status.busy": "2021-08-14T18:09:01.946053Z",
     "iopub.status.idle": "2021-08-14T18:09:01.993253Z",
     "shell.execute_reply": "2021-08-14T18:09:01.992538Z",
     "shell.execute_reply.started": "2021-08-14T18:02:28.2396Z"
    },
    "papermill": {
     "duration": 0.136139,
     "end_time": "2021-08-14T18:09:01.993400",
     "exception": false,
     "start_time": "2021-08-14T18:09:01.857261",
     "status": "completed"
    },
    "tags": []
   },
   "outputs": [],
   "source": [
    "# numerical feature selection\n",
    "random_state=42\n",
    "from sklearn.feature_selection import SelectKBest, chi2\n",
    "selector = SelectKBest(chi2,k=11)\n",
    "selector.fit_transform(num1, y_train)\n",
    "# Get columns to keep and create new dataframe with those only\n",
    "cols = selector.get_support(indices=True)\n",
    "select_features_df_num = num.iloc[:,cols]"
   ]
  },
  {
   "cell_type": "markdown",
   "id": "e82dd7f5",
   "metadata": {
    "papermill": {
     "duration": 0.079947,
     "end_time": "2021-08-14T18:09:02.156026",
     "exception": false,
     "start_time": "2021-08-14T18:09:02.076079",
     "status": "completed"
    },
    "tags": []
   },
   "source": [
    "# Part 1 - Bi Variate Analysis"
   ]
  },
  {
   "cell_type": "markdown",
   "id": "f1381d33",
   "metadata": {
    "papermill": {
     "duration": 0.079959,
     "end_time": "2021-08-14T18:09:02.315609",
     "exception": false,
     "start_time": "2021-08-14T18:09:02.235650",
     "status": "completed"
    },
    "tags": []
   },
   "source": []
  },
  {
   "cell_type": "code",
   "execution_count": 32,
   "id": "b4de2459",
   "metadata": {
    "execution": {
     "iopub.execute_input": "2021-08-14T18:09:02.483119Z",
     "iopub.status.busy": "2021-08-14T18:09:02.482104Z",
     "iopub.status.idle": "2021-08-14T18:09:22.615700Z",
     "shell.execute_reply": "2021-08-14T18:09:22.615138Z",
     "shell.execute_reply.started": "2021-08-14T18:02:28.312425Z"
    },
    "papermill": {
     "duration": 20.220297,
     "end_time": "2021-08-14T18:09:22.615836",
     "exception": false,
     "start_time": "2021-08-14T18:09:02.395539",
     "status": "completed"
    },
    "tags": []
   },
   "outputs": [
    {
     "name": "stderr",
     "output_type": "stream",
     "text": [
      "/opt/conda/lib/python3.7/site-packages/ipykernel_launcher.py:8: RuntimeWarning: More than 20 figures have been opened. Figures created through the pyplot interface (`matplotlib.pyplot.figure`) are retained until explicitly closed and may consume too much memory. (To control this warning, see the rcParam `figure.max_open_warning`).\n",
      "  \n"
     ]
    },
    {
     "data": {
      "image/png": "[encoded data removed]",
      "text/plain": [
       "<Figure size 432x288 with 1 Axes>"
      ]
     },
     "metadata": {
      "needs_background": "light"
     },
     "output_type": "display_data"
    },
    {
     "data": {
      "image/png": "[encoded data removed]",
      "text/plain": [
       "<Figure size 432x288 with 1 Axes>"
      ]
     },
     "metadata": {
      "needs_background": "light"
     },
     "output_type": "display_data"
    },
    {
     "data": {
      "image/png": "[encoded data removed]",
      "text/plain": [
       "<Figure size 432x288 with 1 Axes>"
      ]
     },
     "metadata": {
      "needs_background": "light"
     },
     "output_type": "display_data"
    },
    {
     "data": {
      "image/png": "[encoded data removed]",
      "text/plain": [
       "<Figure size 432x288 with 1 Axes>"
      ]
     },
     "metadata": {
      "needs_background": "light"
     },
     "output_type": "display_data"
    },
    {
     "data": {
      "image/png": "[encoded data removed]",
      "text/plain": [
       "<Figure size 432x288 with 1 Axes>"
      ]
     },
     "metadata": {
      "needs_background": "light"
     },
     "output_type": "display_data"
    },
    {
     "data": {
      "image/png": "[encoded data removed]",
      "text/plain": [
       "<Figure size 432x288 with 1 Axes>"
      ]
     },
     "metadata": {
      "needs_background": "light"
     },
     "output_type": "display_data"
    },
    {
     "data": {
      "image/png": "[encoded data removed]",
      "text/plain": [
       "<Figure size 432x288 with 1 Axes>"
      ]
     },
     "metadata": {
      "needs_background": "light"
     },
     "output_type": "display_data"
    },
    {
     "data": {
      "image/png": "[encoded data removed]",
      "text/plain": [
       "<Figure size 432x288 with 1 Axes>"
      ]
     },
     "metadata": {
      "needs_background": "light"
     },
     "output_type": "display_data"
    },
    {
     "data": {
      "image/png": "[encoded data removed]",
      "text/plain": [
       "<Figure size 432x288 with 1 Axes>"
      ]
     },
     "metadata": {
      "needs_background": "light"
     },
     "output_type": "display_data"
    },
    {
     "data": {
      "image/png": "[encoded data removed]",
      "text/plain": [
       "<Figure size 432x288 with 1 Axes>"
      ]
     },
     "metadata": {
      "needs_background": "light"
     },
     "output_type": "display_data"
    },
    {
     "data": {
      "image/png": "[encoded data removed]",
      "text/plain": [
       "<Figure size 432x288 with 1 Axes>"
      ]
     },
     "metadata": {
      "needs_background": "light"
     },
     "output_type": "display_data"
    },
    {
     "data": {
      "image/png": "[encoded data removed]",
      "text/plain": [
       "<Figure size 432x288 with 1 Axes>"
      ]
     },
     "metadata": {
      "needs_background": "light"
     },
     "output_type": "display_data"
    },
    {
     "data": {
      "image/png": "[encoded data removed]",
      "text/plain": [
       "<Figure size 432x288 with 1 Axes>"
      ]
     },
     "metadata": {
      "needs_background": "light"
     },
     "output_type": "display_data"
    },
    {
     "data": {
      "image/png": "[encoded data removed]",
      "text/plain": [
       "<Figure size 432x288 with 1 Axes>"
      ]
     },
     "metadata": {
      "needs_background": "light"
     },
     "output_type": "display_data"
    },
    {
     "data": {
      "image/png": "[encoded data removed]",
      "text/plain": [
       "<Figure size 432x288 with 1 Axes>"
      ]
     },
     "metadata": {
      "needs_background": "light"
     },
     "output_type": "display_data"
    },
    {
     "data": {
      "image/png": "[encoded data removed]",
      "text/plain": [
       "<Figure size 432x288 with 1 Axes>"
      ]
     },
     "metadata": {
      "needs_background": "light"
     },
     "output_type": "display_data"
    },
    {
     "data": {
      "image/png": "[encoded data removed]",
      "text/plain": [
       "<Figure size 432x288 with 1 Axes>"
      ]
     },
     "metadata": {
      "needs_background": "light"
     },
     "output_type": "display_data"
    },
    {
     "data": {
      "image/png": "[encoded data removed]",
      "text/plain": [
       "<Figure size 432x288 with 1 Axes>"
      ]
     },
     "metadata": {
      "needs_background": "light"
     },
     "output_type": "display_data"
    },
    {
     "data": {
      "image/png": "[encoded data removed]",
      "text/plain": [
       "<Figure size 432x288 with 1 Axes>"
      ]
     },
     "metadata": {
      "needs_background": "light"
     },
     "output_type": "display_data"
    },
    {
     "data": {
      "image/png": "[encoded data removed]",
      "text/plain": [
       "<Figure size 432x288 with 1 Axes>"
      ]
     },
     "metadata": {
      "needs_background": "light"
     },
     "output_type": "display_data"
    },
    {
     "data": {
      "image/png": "[encoded data removed]",
      "text/plain": [
       "<Figure size 432x288 with 1 Axes>"
      ]
     },
     "metadata": {
      "needs_background": "light"
     },
     "output_type": "display_data"
    },
    {
     "data": {
      "image/png": "[encoded data removed]",
      "text/plain": [
       "<Figure size 432x288 with 1 Axes>"
      ]
     },
     "metadata": {
      "needs_background": "light"
     },
     "output_type": "display_data"
    },
    {
     "data": {
      "image/png": "[encoded data removed]",
      "text/plain": [
       "<Figure size 432x288 with 1 Axes>"
      ]
     },
     "metadata": {
      "needs_background": "light"
     },
     "output_type": "display_data"
    },
    {
     "data": {
      "image/png": "[encoded data removed]",
      "text/plain": [
       "<Figure size 432x288 with 1 Axes>"
      ]
     },
     "metadata": {
      "needs_background": "light"
     },
     "output_type": "display_data"
    },
    {
     "data": {
      "image/png": "[encoded data removed]",
      "text/plain": [
       "<Figure size 432x288 with 1 Axes>"
      ]
     },
     "metadata": {
      "needs_background": "light"
     },
     "output_type": "display_data"
    },
    {
     "data": {
      "image/png": "[encoded data removed]",
      "text/plain": [
       "<Figure size 432x288 with 1 Axes>"
      ]
     },
     "metadata": {
      "needs_background": "light"
     },
     "output_type": "display_data"
    },
    {
     "data": {
      "image/png": "[encoded data removed]",
      "text/plain": [
       "<Figure size 432x288 with 1 Axes>"
      ]
     },
     "metadata": {
      "needs_background": "light"
     },
     "output_type": "display_data"
    },
    {
     "data": {
      "image/png": "[encoded data removed]",
      "text/plain": [
       "<Figure size 432x288 with 1 Axes>"
      ]
     },
     "metadata": {
      "needs_background": "light"
     },
     "output_type": "display_data"
    },
    {
     "data": {
      "image/png": "[encoded data removed]",
      "text/plain": [
       "<Figure size 432x288 with 1 Axes>"
      ]
     },
     "metadata": {
      "needs_background": "light"
     },
     "output_type": "display_data"
    },
    {
     "data": {
      "image/png": "[encoded data removed]",
      "text/plain": [
       "<Figure size 432x288 with 1 Axes>"
      ]
     },
     "metadata": {
      "needs_background": "light"
     },
     "output_type": "display_data"
    },
    {
     "data": {
      "image/png": "[encoded data removed]",
      "text/plain": [
       "<Figure size 432x288 with 1 Axes>"
      ]
     },
     "metadata": {
      "needs_background": "light"
     },
     "output_type": "display_data"
    },
    {
     "data": {
      "image/png": "[encoded data removed]",
      "text/plain": [
       "<Figure size 432x288 with 1 Axes>"
      ]
     },
     "metadata": {
      "needs_background": "light"
     },
     "output_type": "display_data"
    },
    {
     "data": {
      "image/png": "[encoded data removed]",
      "text/plain": [
       "<Figure size 432x288 with 1 Axes>"
      ]
     },
     "metadata": {
      "needs_background": "light"
     },
     "output_type": "display_data"
    },
    {
     "data": {
      "image/png": "[encoded data removed]",
      "text/plain": [
       "<Figure size 432x288 with 1 Axes>"
      ]
     },
     "metadata": {
      "needs_background": "light"
     },
     "output_type": "display_data"
    },
    {
     "data": {
      "image/png": "[encoded data removed]",
      "text/plain": [
       "<Figure size 432x288 with 1 Axes>"
      ]
     },
     "metadata": {
      "needs_background": "light"
     },
     "output_type": "display_data"
    },
    {
     "data": {
      "image/png": "[encoded data removed]",
      "text/plain": [
       "<Figure size 432x288 with 1 Axes>"
      ]
     },
     "metadata": {
      "needs_background": "light"
     },
     "output_type": "display_data"
    },
    {
     "data": {
      "image/png": "[encoded data removed]",
      "text/plain": [
       "<Figure size 432x288 with 1 Axes>"
      ]
     },
     "metadata": {
      "needs_background": "light"
     },
     "output_type": "display_data"
    },
    {
     "data": {
      "image/png": "[encoded data removed]",
      "text/plain": [
       "<Figure size 432x288 with 1 Axes>"
      ]
     },
     "metadata": {
      "needs_background": "light"
     },
     "output_type": "display_data"
    },
    {
     "data": {
      "image/png": "[encoded data removed]",
      "text/plain": [
       "<Figure size 432x288 with 1 Axes>"
      ]
     },
     "metadata": {
      "needs_background": "light"
     },
     "output_type": "display_data"
    },
    {
     "data": {
      "image/png": "[encoded data removed]",
      "text/plain": [
       "<Figure size 432x288 with 1 Axes>"
      ]
     },
     "metadata": {
      "needs_background": "light"
     },
     "output_type": "display_data"
    },
    {
     "data": {
      "image/png": "[encoded data removed]",
      "text/plain": [
       "<Figure size 432x288 with 1 Axes>"
      ]
     },
     "metadata": {
      "needs_background": "light"
     },
     "output_type": "display_data"
    },
    {
     "data": {
      "image/png": "[encoded data removed]",
      "text/plain": [
       "<Figure size 432x288 with 1 Axes>"
      ]
     },
     "metadata": {
      "needs_background": "light"
     },
     "output_type": "display_data"
    },
    {
     "data": {
      "image/png": "[encoded data removed]",
      "text/plain": [
       "<Figure size 432x288 with 1 Axes>"
      ]
     },
     "metadata": {
      "needs_background": "light"
     },
     "output_type": "display_data"
    },
    {
     "data": {
      "image/png": "[encoded data removed]",
      "text/plain": [
       "<Figure size 432x288 with 1 Axes>"
      ]
     },
     "metadata": {
      "needs_background": "light"
     },
     "output_type": "display_data"
    },
    {
     "data": {
      "image/png": "[encoded data removed]",
      "text/plain": [
       "<Figure size 432x288 with 1 Axes>"
      ]
     },
     "metadata": {
      "needs_background": "light"
     },
     "output_type": "display_data"
    },
    {
     "data": {
      "image/png": "[encoded data removed]",
      "text/plain": [
       "<Figure size 432x288 with 1 Axes>"
      ]
     },
     "metadata": {
      "needs_background": "light"
     },
     "output_type": "display_data"
    },
    {
     "data": {
      "image/png": "[encoded data removed]",
      "text/plain": [
       "<Figure size 432x288 with 1 Axes>"
      ]
     },
     "metadata": {
      "needs_background": "light"
     },
     "output_type": "display_data"
    },
    {
     "data": {
      "image/png": "[encoded data removed]",
      "text/plain": [
       "<Figure size 432x288 with 1 Axes>"
      ]
     },
     "metadata": {
      "needs_background": "light"
     },
     "output_type": "display_data"
    },
    {
     "data": {
      "image/png": "[encoded data removed]",
      "text/plain": [
       "<Figure size 432x288 with 1 Axes>"
      ]
     },
     "metadata": {
      "needs_background": "light"
     },
     "output_type": "display_data"
    },
    {
     "data": {
      "image/png": "[encoded data removed]",
      "text/plain": [
       "<Figure size 432x288 with 1 Axes>"
      ]
     },
     "metadata": {
      "needs_background": "light"
     },
     "output_type": "display_data"
    },
    {
     "data": {
      "image/png": "[encoded data removed]",
      "text/plain": [
       "<Figure size 432x288 with 1 Axes>"
      ]
     },
     "metadata": {
      "needs_background": "light"
     },
     "output_type": "display_data"
    },
    {
     "data": {
      "image/png": "[encoded data removed]",
      "text/plain": [
       "<Figure size 432x288 with 1 Axes>"
      ]
     },
     "metadata": {
      "needs_background": "light"
     },
     "output_type": "display_data"
    },
    {
     "data": {
      "image/png": "[encoded data removed]",
      "text/plain": [
       "<Figure size 432x288 with 1 Axes>"
      ]
     },
     "metadata": {
      "needs_background": "light"
     },
     "output_type": "display_data"
    },
    {
     "data": {
      "image/png": "[encoded data removed]",
      "text/plain": [
       "<Figure size 432x288 with 1 Axes>"
      ]
     },
     "metadata": {
      "needs_background": "light"
     },
     "output_type": "display_data"
    },
    {
     "data": {
      "image/png": "[encoded data removed]",
      "text/plain": [
       "<Figure size 432x288 with 1 Axes>"
      ]
     },
     "metadata": {
      "needs_background": "light"
     },
     "output_type": "display_data"
    }
   ],
   "source": [
    "# checking relationship between categorical variables with target variable\n",
    "import matplotlib.pyplot as plt\n",
    "import seaborn as sns\n",
    "X_char_merged=pd.concat([y_train,char1],axis=1,join='inner')\n",
    "\n",
    "from numpy import mean\n",
    "for col in (char1.columns):\n",
    "    plt.figure()\n",
    "    sns.barplot(x=col, y=\"SalePrice\",data=X_char_merged, estimator=mean )\n",
    "plt.show()"
   ]
  },
  {
   "cell_type": "code",
   "execution_count": 33,
   "id": "be627d0f",
   "metadata": {
    "execution": {
     "iopub.execute_input": "2021-08-14T18:09:22.863320Z",
     "iopub.status.busy": "2021-08-14T18:09:22.862601Z",
     "iopub.status.idle": "2021-08-14T18:09:22.864986Z",
     "shell.execute_reply": "2021-08-14T18:09:22.864495Z",
     "shell.execute_reply.started": "2021-08-14T18:02:48.670704Z"
    },
    "papermill": {
     "duration": 0.128608,
     "end_time": "2021-08-14T18:09:22.865113",
     "exception": false,
     "start_time": "2021-08-14T18:09:22.736505",
     "status": "completed"
    },
    "tags": []
   },
   "outputs": [],
   "source": [
    "# dropping those columns which have sigle barplot and have all barplot values that are less than mean of target variable\n",
    "c=['Street','Utilities','BldgType','Heating','CentralAir','PavedDrive','BsmtHalfBath','KitchenAbvGr','YrSold','BldgType','Electrical','Functional']\n",
    "char1=char1.drop(c,axis=1)"
   ]
  },
  {
   "cell_type": "markdown",
   "id": "d443b9d6",
   "metadata": {
    "papermill": {
     "duration": 0.119929,
     "end_time": "2021-08-14T18:09:23.105481",
     "exception": false,
     "start_time": "2021-08-14T18:09:22.985552",
     "status": "completed"
    },
    "tags": []
   },
   "source": [
    "# Encoding"
   ]
  },
  {
   "cell_type": "code",
   "execution_count": 34,
   "id": "04eb8929",
   "metadata": {
    "execution": {
     "iopub.execute_input": "2021-08-14T18:09:23.368213Z",
     "iopub.status.busy": "2021-08-14T18:09:23.362188Z",
     "iopub.status.idle": "2021-08-14T18:09:23.407839Z",
     "shell.execute_reply": "2021-08-14T18:09:23.407283Z",
     "shell.execute_reply.started": "2021-08-14T18:02:48.680662Z"
    },
    "papermill": {
     "duration": 0.180452,
     "end_time": "2021-08-14T18:09:23.407974",
     "exception": false,
     "start_time": "2021-08-14T18:09:23.227522",
     "status": "completed"
    },
    "tags": []
   },
   "outputs": [
    {
     "data": {
      "text/html": [
       "<div>\n",
       "<style scoped>\n",
       "    .dataframe tbody tr th:only-of-type {\n",
       "        vertical-align: middle;\n",
       "    }\n",
       "\n",
       "    .dataframe tbody tr th {\n",
       "        vertical-align: top;\n",
       "    }\n",
       "\n",
       "    .dataframe thead th {\n",
       "        text-align: right;\n",
       "    }\n",
       "</style>\n",
       "<table border=\"1\" class=\"dataframe\">\n",
       "  <thead>\n",
       "    <tr style=\"text-align: right;\">\n",
       "      <th></th>\n",
       "      <th>MSZoning</th>\n",
       "      <th>LotShape</th>\n",
       "      <th>LandContour</th>\n",
       "      <th>LotConfig</th>\n",
       "      <th>LandSlope</th>\n",
       "      <th>Neighborhood</th>\n",
       "      <th>Condition1</th>\n",
       "      <th>Condition2</th>\n",
       "      <th>HouseStyle</th>\n",
       "      <th>RoofStyle</th>\n",
       "      <th>...</th>\n",
       "      <th>BsmtFullBath</th>\n",
       "      <th>FullBath</th>\n",
       "      <th>HalfBath</th>\n",
       "      <th>BedroomAbvGr</th>\n",
       "      <th>TotRmsAbvGrd</th>\n",
       "      <th>Fireplaces</th>\n",
       "      <th>GarageCars</th>\n",
       "      <th>3SsnPorch</th>\n",
       "      <th>PoolArea</th>\n",
       "      <th>MoSold</th>\n",
       "    </tr>\n",
       "  </thead>\n",
       "  <tbody>\n",
       "    <tr>\n",
       "      <th>0</th>\n",
       "      <td>3</td>\n",
       "      <td>3</td>\n",
       "      <td>3</td>\n",
       "      <td>4</td>\n",
       "      <td>0</td>\n",
       "      <td>5</td>\n",
       "      <td>2</td>\n",
       "      <td>2</td>\n",
       "      <td>5</td>\n",
       "      <td>1</td>\n",
       "      <td>...</td>\n",
       "      <td>1</td>\n",
       "      <td>2</td>\n",
       "      <td>1</td>\n",
       "      <td>3</td>\n",
       "      <td>6</td>\n",
       "      <td>0</td>\n",
       "      <td>2</td>\n",
       "      <td>0</td>\n",
       "      <td>0</td>\n",
       "      <td>1</td>\n",
       "    </tr>\n",
       "    <tr>\n",
       "      <th>1</th>\n",
       "      <td>3</td>\n",
       "      <td>3</td>\n",
       "      <td>3</td>\n",
       "      <td>2</td>\n",
       "      <td>0</td>\n",
       "      <td>24</td>\n",
       "      <td>1</td>\n",
       "      <td>2</td>\n",
       "      <td>2</td>\n",
       "      <td>1</td>\n",
       "      <td>...</td>\n",
       "      <td>0</td>\n",
       "      <td>2</td>\n",
       "      <td>0</td>\n",
       "      <td>3</td>\n",
       "      <td>4</td>\n",
       "      <td>1</td>\n",
       "      <td>2</td>\n",
       "      <td>0</td>\n",
       "      <td>0</td>\n",
       "      <td>4</td>\n",
       "    </tr>\n",
       "    <tr>\n",
       "      <th>2</th>\n",
       "      <td>3</td>\n",
       "      <td>0</td>\n",
       "      <td>3</td>\n",
       "      <td>4</td>\n",
       "      <td>0</td>\n",
       "      <td>5</td>\n",
       "      <td>2</td>\n",
       "      <td>2</td>\n",
       "      <td>5</td>\n",
       "      <td>1</td>\n",
       "      <td>...</td>\n",
       "      <td>1</td>\n",
       "      <td>2</td>\n",
       "      <td>1</td>\n",
       "      <td>3</td>\n",
       "      <td>4</td>\n",
       "      <td>1</td>\n",
       "      <td>2</td>\n",
       "      <td>0</td>\n",
       "      <td>0</td>\n",
       "      <td>8</td>\n",
       "    </tr>\n",
       "    <tr>\n",
       "      <th>3</th>\n",
       "      <td>3</td>\n",
       "      <td>0</td>\n",
       "      <td>3</td>\n",
       "      <td>0</td>\n",
       "      <td>0</td>\n",
       "      <td>6</td>\n",
       "      <td>2</td>\n",
       "      <td>2</td>\n",
       "      <td>5</td>\n",
       "      <td>1</td>\n",
       "      <td>...</td>\n",
       "      <td>1</td>\n",
       "      <td>1</td>\n",
       "      <td>0</td>\n",
       "      <td>3</td>\n",
       "      <td>5</td>\n",
       "      <td>1</td>\n",
       "      <td>3</td>\n",
       "      <td>0</td>\n",
       "      <td>0</td>\n",
       "      <td>1</td>\n",
       "    </tr>\n",
       "    <tr>\n",
       "      <th>4</th>\n",
       "      <td>3</td>\n",
       "      <td>0</td>\n",
       "      <td>3</td>\n",
       "      <td>2</td>\n",
       "      <td>0</td>\n",
       "      <td>15</td>\n",
       "      <td>2</td>\n",
       "      <td>2</td>\n",
       "      <td>5</td>\n",
       "      <td>1</td>\n",
       "      <td>...</td>\n",
       "      <td>1</td>\n",
       "      <td>2</td>\n",
       "      <td>1</td>\n",
       "      <td>4</td>\n",
       "      <td>7</td>\n",
       "      <td>1</td>\n",
       "      <td>3</td>\n",
       "      <td>0</td>\n",
       "      <td>0</td>\n",
       "      <td>11</td>\n",
       "    </tr>\n",
       "  </tbody>\n",
       "</table>\n",
       "<p>5 rows × 44 columns</p>\n",
       "</div>"
      ],
      "text/plain": [
       "   MSZoning  LotShape  LandContour  LotConfig  LandSlope  Neighborhood  \\\n",
       "0         3         3            3          4          0             5   \n",
       "1         3         3            3          2          0            24   \n",
       "2         3         0            3          4          0             5   \n",
       "3         3         0            3          0          0             6   \n",
       "4         3         0            3          2          0            15   \n",
       "\n",
       "   Condition1  Condition2  HouseStyle  RoofStyle  ...  BsmtFullBath  FullBath  \\\n",
       "0           2           2           5          1  ...             1         2   \n",
       "1           1           2           2          1  ...             0         2   \n",
       "2           2           2           5          1  ...             1         2   \n",
       "3           2           2           5          1  ...             1         1   \n",
       "4           2           2           5          1  ...             1         2   \n",
       "\n",
       "   HalfBath  BedroomAbvGr  TotRmsAbvGrd  Fireplaces  GarageCars  3SsnPorch  \\\n",
       "0         1             3             6           0           2          0   \n",
       "1         0             3             4           1           2          0   \n",
       "2         1             3             4           1           2          0   \n",
       "3         0             3             5           1           3          0   \n",
       "4         1             4             7           1           3          0   \n",
       "\n",
       "   PoolArea  MoSold  \n",
       "0         0       1  \n",
       "1         0       4  \n",
       "2         0       8  \n",
       "3         0       1  \n",
       "4         0      11  \n",
       "\n",
       "[5 rows x 44 columns]"
      ]
     },
     "execution_count": 34,
     "metadata": {},
     "output_type": "execute_result"
    }
   ],
   "source": [
    "# encoding \n",
    "from sklearn import preprocessing\n",
    "le=preprocessing.LabelEncoder()\n",
    "col=char1.columns\n",
    "for i in col:\n",
    "    char1[i]=le.fit_transform(char1[i])\n",
    "char1.head() "
   ]
  },
  {
   "cell_type": "markdown",
   "id": "bdd61b57",
   "metadata": {
    "papermill": {
     "duration": 0.122032,
     "end_time": "2021-08-14T18:09:23.651957",
     "exception": false,
     "start_time": "2021-08-14T18:09:23.529925",
     "status": "completed"
    },
    "tags": []
   },
   "source": [
    "# Part 2 - Select K Best"
   ]
  },
  {
   "cell_type": "code",
   "execution_count": 35,
   "id": "6f99c946",
   "metadata": {
    "execution": {
     "iopub.execute_input": "2021-08-14T18:09:23.902691Z",
     "iopub.status.busy": "2021-08-14T18:09:23.902038Z",
     "iopub.status.idle": "2021-08-14T18:09:24.016154Z",
     "shell.execute_reply": "2021-08-14T18:09:24.015586Z",
     "shell.execute_reply.started": "2021-08-14T18:02:48.760864Z"
    },
    "papermill": {
     "duration": 0.243317,
     "end_time": "2021-08-14T18:09:24.016316",
     "exception": false,
     "start_time": "2021-08-14T18:09:23.772999",
     "status": "completed"
    },
    "tags": []
   },
   "outputs": [],
   "source": [
    "# categorical feature selections\n",
    "random_state=42\n",
    "from sklearn.feature_selection import SelectKBest, chi2\n",
    "selector = SelectKBest(chi2, k=40)\n",
    "selector.fit_transform(char1, y_train)\n",
    "# Get columns to keep and create new dataframe with those only\n",
    "cols = selector.get_support(indices=True)\n",
    "select_features_df_char = char1.iloc[:,cols]"
   ]
  },
  {
   "cell_type": "markdown",
   "id": "2bd3b32a",
   "metadata": {
    "papermill": {
     "duration": 0.120107,
     "end_time": "2021-08-14T18:09:24.258464",
     "exception": false,
     "start_time": "2021-08-14T18:09:24.138357",
     "status": "completed"
    },
    "tags": []
   },
   "source": []
  },
  {
   "cell_type": "markdown",
   "id": "23829ddb",
   "metadata": {
    "papermill": {
     "duration": 0.120056,
     "end_time": "2021-08-14T18:09:24.500831",
     "exception": false,
     "start_time": "2021-08-14T18:09:24.380775",
     "status": "completed"
    },
    "tags": []
   },
   "source": [
    "# Standardization"
   ]
  },
  {
   "cell_type": "code",
   "execution_count": 36,
   "id": "880134cf",
   "metadata": {
    "execution": {
     "iopub.execute_input": "2021-08-14T18:09:24.748869Z",
     "iopub.status.busy": "2021-08-14T18:09:24.747836Z",
     "iopub.status.idle": "2021-08-14T18:09:24.754690Z",
     "shell.execute_reply": "2021-08-14T18:09:24.754173Z",
     "shell.execute_reply.started": "2021-08-14T18:02:48.90671Z"
    },
    "papermill": {
     "duration": 0.13437,
     "end_time": "2021-08-14T18:09:24.754840",
     "exception": false,
     "start_time": "2021-08-14T18:09:24.620470",
     "status": "completed"
    },
    "tags": []
   },
   "outputs": [],
   "source": [
    "from sklearn.preprocessing import StandardScaler\n",
    "sc_num = StandardScaler()\n",
    "sc_num = sc_num.fit_transform(select_features_df_num)\n",
    "#Convert to table format - StandardScaler\n",
    "sc_num = pd.DataFrame(data=sc_num, columns=select_features_df_num.columns)"
   ]
  },
  {
   "cell_type": "markdown",
   "id": "a60bb4d4",
   "metadata": {
    "papermill": {
     "duration": 0.119578,
     "end_time": "2021-08-14T18:09:24.994626",
     "exception": false,
     "start_time": "2021-08-14T18:09:24.875048",
     "status": "completed"
    },
    "tags": []
   },
   "source": [
    "# Creating the Master Feature Set for Model Development"
   ]
  },
  {
   "cell_type": "code",
   "execution_count": 37,
   "id": "bbea454a",
   "metadata": {
    "execution": {
     "iopub.execute_input": "2021-08-14T18:09:25.240498Z",
     "iopub.status.busy": "2021-08-14T18:09:25.239563Z",
     "iopub.status.idle": "2021-08-14T18:09:25.242698Z",
     "shell.execute_reply": "2021-08-14T18:09:25.242187Z",
     "shell.execute_reply.started": "2021-08-14T18:02:48.918455Z"
    },
    "papermill": {
     "duration": 0.128113,
     "end_time": "2021-08-14T18:09:25.242837",
     "exception": false,
     "start_time": "2021-08-14T18:09:25.114724",
     "status": "completed"
    },
    "tags": []
   },
   "outputs": [],
   "source": [
    "X_train=pd.concat([select_features_df_char,sc_num],axis=1,join=\"inner\")"
   ]
  },
  {
   "cell_type": "markdown",
   "id": "6ae69070",
   "metadata": {
    "papermill": {
     "duration": 0.119368,
     "end_time": "2021-08-14T18:09:25.482769",
     "exception": false,
     "start_time": "2021-08-14T18:09:25.363401",
     "status": "completed"
    },
    "tags": []
   },
   "source": [
    "# Importing Testing Data"
   ]
  },
  {
   "cell_type": "code",
   "execution_count": 38,
   "id": "425b4a2e",
   "metadata": {
    "execution": {
     "iopub.execute_input": "2021-08-14T18:09:25.727595Z",
     "iopub.status.busy": "2021-08-14T18:09:25.726878Z",
     "iopub.status.idle": "2021-08-14T18:09:25.778327Z",
     "shell.execute_reply": "2021-08-14T18:09:25.777590Z",
     "shell.execute_reply.started": "2021-08-14T18:02:48.930689Z"
    },
    "papermill": {
     "duration": 0.175639,
     "end_time": "2021-08-14T18:09:25.778486",
     "exception": false,
     "start_time": "2021-08-14T18:09:25.602847",
     "status": "completed"
    },
    "tags": []
   },
   "outputs": [],
   "source": [
    "X_test=pd.read_csv('../input/house-prices-advanced-regression-techniques/test.csv')\n",
    "y_test=pd.read_csv('../input/house-prices-advanced-regression-techniques/sample_submission.csv')"
   ]
  },
  {
   "cell_type": "code",
   "execution_count": 39,
   "id": "193ee98f",
   "metadata": {
    "execution": {
     "iopub.execute_input": "2021-08-14T18:09:26.026417Z",
     "iopub.status.busy": "2021-08-14T18:09:26.025771Z",
     "iopub.status.idle": "2021-08-14T18:09:26.030171Z",
     "shell.execute_reply": "2021-08-14T18:09:26.029559Z",
     "shell.execute_reply.started": "2021-08-14T18:02:48.977189Z"
    },
    "papermill": {
     "duration": 0.130418,
     "end_time": "2021-08-14T18:09:26.030306",
     "exception": false,
     "start_time": "2021-08-14T18:09:25.899888",
     "status": "completed"
    },
    "tags": []
   },
   "outputs": [],
   "source": [
    "#selecting columns present in trading dataset\n",
    "X_test1=pd.DataFrame(data=X_test, columns=X_train.columns)\n",
    "y_test2=y_test.drop(['Id'],axis=1)"
   ]
  },
  {
   "cell_type": "code",
   "execution_count": 40,
   "id": "2168f6ae",
   "metadata": {
    "execution": {
     "iopub.execute_input": "2021-08-14T18:09:26.280963Z",
     "iopub.status.busy": "2021-08-14T18:09:26.280291Z",
     "iopub.status.idle": "2021-08-14T18:09:26.285574Z",
     "shell.execute_reply": "2021-08-14T18:09:26.285077Z",
     "shell.execute_reply.started": "2021-08-14T18:02:48.985459Z"
    },
    "papermill": {
     "duration": 0.135235,
     "end_time": "2021-08-14T18:09:26.285709",
     "exception": false,
     "start_time": "2021-08-14T18:09:26.150474",
     "status": "completed"
    },
    "tags": []
   },
   "outputs": [],
   "source": [
    "#spliting numerical and categorical data\n",
    "ob=X_test1.select_dtypes(include='object')\n",
    "nu=X_test1.select_dtypes(include='number')"
   ]
  },
  {
   "cell_type": "code",
   "execution_count": 41,
   "id": "6d4565d5",
   "metadata": {
    "execution": {
     "iopub.execute_input": "2021-08-14T18:09:26.535636Z",
     "iopub.status.busy": "2021-08-14T18:09:26.534233Z",
     "iopub.status.idle": "2021-08-14T18:09:26.555345Z",
     "shell.execute_reply": "2021-08-14T18:09:26.554829Z",
     "shell.execute_reply.started": "2021-08-14T18:02:49.001085Z"
    },
    "papermill": {
     "duration": 0.14809,
     "end_time": "2021-08-14T18:09:26.555482",
     "exception": false,
     "start_time": "2021-08-14T18:09:26.407392",
     "status": "completed"
    },
    "tags": []
   },
   "outputs": [
    {
     "data": {
      "text/html": [
       "<div>\n",
       "<style scoped>\n",
       "    .dataframe tbody tr th:only-of-type {\n",
       "        vertical-align: middle;\n",
       "    }\n",
       "\n",
       "    .dataframe tbody tr th {\n",
       "        vertical-align: top;\n",
       "    }\n",
       "\n",
       "    .dataframe thead th {\n",
       "        text-align: right;\n",
       "    }\n",
       "</style>\n",
       "<table border=\"1\" class=\"dataframe\">\n",
       "  <thead>\n",
       "    <tr style=\"text-align: right;\">\n",
       "      <th></th>\n",
       "      <th>feature_levels</th>\n",
       "    </tr>\n",
       "  </thead>\n",
       "  <tbody>\n",
       "    <tr>\n",
       "      <th>MSSubClass</th>\n",
       "      <td>16</td>\n",
       "    </tr>\n",
       "    <tr>\n",
       "      <th>OverallQual</th>\n",
       "      <td>10</td>\n",
       "    </tr>\n",
       "    <tr>\n",
       "      <th>OverallCond</th>\n",
       "      <td>9</td>\n",
       "    </tr>\n",
       "    <tr>\n",
       "      <th>BsmtFullBath</th>\n",
       "      <td>4</td>\n",
       "    </tr>\n",
       "    <tr>\n",
       "      <th>FullBath</th>\n",
       "      <td>5</td>\n",
       "    </tr>\n",
       "  </tbody>\n",
       "</table>\n",
       "</div>"
      ],
      "text/plain": [
       "              feature_levels\n",
       "MSSubClass                16\n",
       "OverallQual               10\n",
       "OverallCond                9\n",
       "BsmtFullBath               4\n",
       "FullBath                   5"
      ]
     },
     "execution_count": 41,
     "metadata": {},
     "output_type": "execute_result"
    }
   ],
   "source": [
    "#checking unique values for test data\n",
    "df1_value_counts=pd.DataFrame(nu.apply(lambda x : unique_levels(x)))\n",
    "df1_value_counts.columns=['feature_levels']\n",
    "df1_value_counts.head()"
   ]
  },
  {
   "cell_type": "code",
   "execution_count": 42,
   "id": "28ae8d2d",
   "metadata": {
    "execution": {
     "iopub.execute_input": "2021-08-14T18:09:26.805629Z",
     "iopub.status.busy": "2021-08-14T18:09:26.804719Z",
     "iopub.status.idle": "2021-08-14T18:09:26.808578Z",
     "shell.execute_reply": "2021-08-14T18:09:26.808062Z",
     "shell.execute_reply.started": "2021-08-14T18:02:49.033783Z"
    },
    "papermill": {
     "duration": 0.133035,
     "end_time": "2021-08-14T18:09:26.808724",
     "exception": false,
     "start_time": "2021-08-14T18:09:26.675689",
     "status": "completed"
    },
    "tags": []
   },
   "outputs": [
    {
     "data": {
      "text/plain": [
       "(1459, 14)"
      ]
     },
     "execution_count": 42,
     "metadata": {},
     "output_type": "execute_result"
    }
   ],
   "source": [
    "# converting numerical data into categorical which have unique values less than 20\n",
    "slice3=df1_value_counts.loc[df1_value_counts['feature_levels']<=20]\n",
    "cat_list=slice3.index\n",
    "cat1=nu.loc[:,cat_list]\n",
    "cat1.shape"
   ]
  },
  {
   "cell_type": "code",
   "execution_count": 43,
   "id": "ca281d9d",
   "metadata": {
    "execution": {
     "iopub.execute_input": "2021-08-14T18:09:27.057410Z",
     "iopub.status.busy": "2021-08-14T18:09:27.056721Z",
     "iopub.status.idle": "2021-08-14T18:09:27.063070Z",
     "shell.execute_reply": "2021-08-14T18:09:27.062492Z",
     "shell.execute_reply.started": "2021-08-14T18:02:49.04308Z"
    },
    "papermill": {
     "duration": 0.13395,
     "end_time": "2021-08-14T18:09:27.063208",
     "exception": false,
     "start_time": "2021-08-14T18:09:26.929258",
     "status": "completed"
    },
    "tags": []
   },
   "outputs": [
    {
     "data": {
      "text/plain": [
       "(1459, 41)"
      ]
     },
     "execution_count": 43,
     "metadata": {},
     "output_type": "execute_result"
    }
   ],
   "source": [
    "#updating categorical data\n",
    "ob=pd.concat([ob,cat1],axis=1,join=\"inner\")\n",
    "ob.shape"
   ]
  },
  {
   "cell_type": "code",
   "execution_count": 44,
   "id": "f9b45a44",
   "metadata": {
    "execution": {
     "iopub.execute_input": "2021-08-14T18:09:27.317021Z",
     "iopub.status.busy": "2021-08-14T18:09:27.316389Z",
     "iopub.status.idle": "2021-08-14T18:09:27.319134Z",
     "shell.execute_reply": "2021-08-14T18:09:27.319770Z",
     "shell.execute_reply.started": "2021-08-14T18:02:49.060864Z"
    },
    "papermill": {
     "duration": 0.134293,
     "end_time": "2021-08-14T18:09:27.319939",
     "exception": false,
     "start_time": "2021-08-14T18:09:27.185646",
     "status": "completed"
    },
    "tags": []
   },
   "outputs": [
    {
     "data": {
      "text/plain": [
       "(1459, 10)"
      ]
     },
     "execution_count": 44,
     "metadata": {},
     "output_type": "execute_result"
    }
   ],
   "source": [
    "# updating numerical data\n",
    "slice4=df1_value_counts.loc[df1_value_counts['feature_levels']>20]\n",
    "num_list=slice4.index\n",
    "nu=nu.loc[:,num_list]\n",
    "nu.shape"
   ]
  },
  {
   "cell_type": "markdown",
   "id": "60f9c3b1",
   "metadata": {
    "papermill": {
     "duration": 0.122778,
     "end_time": "2021-08-14T18:09:27.616110",
     "exception": false,
     "start_time": "2021-08-14T18:09:27.493332",
     "status": "completed"
    },
    "tags": []
   },
   "source": []
  },
  {
   "cell_type": "markdown",
   "id": "d12e4be3",
   "metadata": {
    "papermill": {
     "duration": 0.122095,
     "end_time": "2021-08-14T18:09:27.860429",
     "exception": false,
     "start_time": "2021-08-14T18:09:27.738334",
     "status": "completed"
    },
    "tags": []
   },
   "source": [
    "# Missing value handling"
   ]
  },
  {
   "cell_type": "code",
   "execution_count": 45,
   "id": "f99ad8b0",
   "metadata": {
    "execution": {
     "iopub.execute_input": "2021-08-14T18:09:28.116618Z",
     "iopub.status.busy": "2021-08-14T18:09:28.115530Z",
     "iopub.status.idle": "2021-08-14T18:09:28.124759Z",
     "shell.execute_reply": "2021-08-14T18:09:28.124274Z",
     "shell.execute_reply.started": "2021-08-14T18:02:49.077502Z"
    },
    "papermill": {
     "duration": 0.142306,
     "end_time": "2021-08-14T18:09:28.124891",
     "exception": false,
     "start_time": "2021-08-14T18:09:27.982585",
     "status": "completed"
    },
    "tags": []
   },
   "outputs": [
    {
     "data": {
      "text/plain": [
       "MSZoning           4\n",
       "LotShape           0\n",
       "LandContour        0\n",
       "LotConfig          0\n",
       "LandSlope          0\n",
       "Neighborhood       0\n",
       "Condition1         0\n",
       "HouseStyle         0\n",
       "RoofStyle          0\n",
       "RoofMatl           0\n",
       "Exterior1st        1\n",
       "Exterior2nd        1\n",
       "MasVnrType        16\n",
       "ExterQual          0\n",
       "Foundation         0\n",
       "BsmtQual          44\n",
       "BsmtCond          45\n",
       "BsmtExposure      44\n",
       "BsmtFinType1      42\n",
       "BsmtFinType2      42\n",
       "HeatingQC          0\n",
       "KitchenQual        1\n",
       "FireplaceQu      730\n",
       "GarageType        76\n",
       "GarageFinish      78\n",
       "SaleType           1\n",
       "SaleCondition      0\n",
       "MSSubClass         0\n",
       "OverallQual        0\n",
       "OverallCond        0\n",
       "BsmtFullBath       2\n",
       "FullBath           0\n",
       "HalfBath           0\n",
       "BedroomAbvGr       0\n",
       "TotRmsAbvGrd       0\n",
       "Fireplaces         0\n",
       "GarageCars         1\n",
       "3SsnPorch          0\n",
       "PoolArea           0\n",
       "MoSold             0\n",
       "LowQualFinSF       0\n",
       "dtype: int64"
      ]
     },
     "execution_count": 45,
     "metadata": {},
     "output_type": "execute_result"
    }
   ],
   "source": [
    "ob.isnull().sum()"
   ]
  },
  {
   "cell_type": "code",
   "execution_count": 46,
   "id": "aa90ea54",
   "metadata": {
    "execution": {
     "iopub.execute_input": "2021-08-14T18:09:28.383207Z",
     "iopub.status.busy": "2021-08-14T18:09:28.376460Z",
     "iopub.status.idle": "2021-08-14T18:09:28.404944Z",
     "shell.execute_reply": "2021-08-14T18:09:28.404280Z",
     "shell.execute_reply.started": "2021-08-14T18:03:44.604745Z"
    },
    "papermill": {
     "duration": 0.159128,
     "end_time": "2021-08-14T18:09:28.405135",
     "exception": false,
     "start_time": "2021-08-14T18:09:28.246007",
     "status": "completed"
    },
    "tags": []
   },
   "outputs": [
    {
     "data": {
      "text/plain": [
       "MSZoning         0\n",
       "LotShape         0\n",
       "LandContour      0\n",
       "LotConfig        0\n",
       "LandSlope        0\n",
       "Neighborhood     0\n",
       "Condition1       0\n",
       "HouseStyle       0\n",
       "RoofStyle        0\n",
       "RoofMatl         0\n",
       "Exterior1st      0\n",
       "Exterior2nd      0\n",
       "MasVnrType       0\n",
       "ExterQual        0\n",
       "Foundation       0\n",
       "BsmtQual         0\n",
       "BsmtCond         0\n",
       "BsmtExposure     0\n",
       "BsmtFinType1     0\n",
       "BsmtFinType2     0\n",
       "HeatingQC        0\n",
       "KitchenQual      0\n",
       "FireplaceQu      0\n",
       "GarageType       0\n",
       "GarageFinish     0\n",
       "SaleType         0\n",
       "SaleCondition    0\n",
       "MSSubClass       0\n",
       "OverallQual      0\n",
       "OverallCond      0\n",
       "BsmtFullBath     0\n",
       "FullBath         0\n",
       "HalfBath         0\n",
       "BedroomAbvGr     0\n",
       "TotRmsAbvGrd     0\n",
       "Fireplaces       0\n",
       "GarageCars       0\n",
       "3SsnPorch        0\n",
       "PoolArea         0\n",
       "MoSold           0\n",
       "LowQualFinSF     0\n",
       "dtype: int64"
      ]
     },
     "execution_count": 46,
     "metadata": {},
     "output_type": "execute_result"
    }
   ],
   "source": [
    "ob1=ob.fillna({'FireplaceQu': ob.FireplaceQu.mode()[0],'MSZoning': ob.MSZoning.mode()[0],'BsmtCond':ob.BsmtCond.mode()[0],\n",
    "                    'BsmtQual':ob.BsmtQual.mode()[0],'MasVnrType': ob.MasVnrType.mode()[0],'BsmtFinType2':ob.BsmtFinType2.mode()[0],\n",
    "                    'BsmtExposure':ob.BsmtExposure.mode()[0],'BsmtFinType1':ob.BsmtFinType1.mode()[0],\n",
    "                    'Exterior1st':ob.Exterior1st.mode()[0],'Exterior2nd':ob.Exterior2nd.mode()[0],'SaleType':ob.SaleType.mode()[0],\n",
    "                    'GarageType':ob.GarageType.mode()[0],'GarageFinish':ob.GarageFinish.mode()[0],\n",
    "                    'KitchenQual':ob.KitchenQual.mode()[0],'GarageCars':ob.GarageCars.mode()[0],\n",
    "                    'BsmtFullBath':ob.BsmtFullBath.mode()[0]})\n",
    "ob1.isnull().sum()\n"
   ]
  },
  {
   "cell_type": "code",
   "execution_count": 47,
   "id": "a0c1d378",
   "metadata": {
    "execution": {
     "iopub.execute_input": "2021-08-14T18:09:28.658801Z",
     "iopub.status.busy": "2021-08-14T18:09:28.658151Z",
     "iopub.status.idle": "2021-08-14T18:09:28.661591Z",
     "shell.execute_reply": "2021-08-14T18:09:28.661118Z",
     "shell.execute_reply.started": "2021-08-14T18:02:49.138359Z"
    },
    "papermill": {
     "duration": 0.133604,
     "end_time": "2021-08-14T18:09:28.661725",
     "exception": false,
     "start_time": "2021-08-14T18:09:28.528121",
     "status": "completed"
    },
    "tags": []
   },
   "outputs": [
    {
     "data": {
      "text/plain": [
       "LotFrontage    227\n",
       "LotArea          0\n",
       "MasVnrArea      15\n",
       "BsmtFinSF1       1\n",
       "BsmtFinSF2       1\n",
       "BsmtUnfSF        1\n",
       "TotalBsmtSF      1\n",
       "1stFlrSF         0\n",
       "2ndFlrSF         0\n",
       "GrLivArea        0\n",
       "dtype: int64"
      ]
     },
     "execution_count": 47,
     "metadata": {},
     "output_type": "execute_result"
    }
   ],
   "source": [
    "nu.isnull().sum()"
   ]
  },
  {
   "cell_type": "code",
   "execution_count": 48,
   "id": "db3c45c5",
   "metadata": {
    "execution": {
     "iopub.execute_input": "2021-08-14T18:09:28.914520Z",
     "iopub.status.busy": "2021-08-14T18:09:28.913848Z",
     "iopub.status.idle": "2021-08-14T18:09:28.923354Z",
     "shell.execute_reply": "2021-08-14T18:09:28.922730Z",
     "shell.execute_reply.started": "2021-08-14T18:03:56.199199Z"
    },
    "papermill": {
     "duration": 0.138178,
     "end_time": "2021-08-14T18:09:28.923501",
     "exception": false,
     "start_time": "2021-08-14T18:09:28.785323",
     "status": "completed"
    },
    "tags": []
   },
   "outputs": [
    {
     "data": {
      "text/plain": [
       "LotFrontage    0\n",
       "LotArea        0\n",
       "MasVnrArea     0\n",
       "BsmtFinSF1     0\n",
       "BsmtFinSF2     0\n",
       "BsmtUnfSF      0\n",
       "TotalBsmtSF    0\n",
       "1stFlrSF       0\n",
       "2ndFlrSF       0\n",
       "GrLivArea      0\n",
       "dtype: int64"
      ]
     },
     "execution_count": 48,
     "metadata": {},
     "output_type": "execute_result"
    }
   ],
   "source": [
    "nu1=nu.fillna({'TotalBsmtSF' : nu.TotalBsmtSF.mean(),'BsmtUnfSF':nu.BsmtUnfSF.mean(), 'BsmtFinSF2':nu.BsmtFinSF2.mean(),\n",
    "               'MasVnrArea':nu.MasVnrArea.mean(),\n",
    "               'BsmtFinSF1':nu.BsmtFinSF1.mean(),'LotFrontage':nu.LotFrontage.mean()\n",
    "              })\n",
    "nu1.isnull().sum()"
   ]
  },
  {
   "cell_type": "markdown",
   "id": "eb49992f",
   "metadata": {
    "papermill": {
     "duration": 0.122479,
     "end_time": "2021-08-14T18:09:29.168829",
     "exception": false,
     "start_time": "2021-08-14T18:09:29.046350",
     "status": "completed"
    },
    "tags": []
   },
   "source": [
    "# Standardization"
   ]
  },
  {
   "cell_type": "code",
   "execution_count": 49,
   "id": "4eeb98da",
   "metadata": {
    "execution": {
     "iopub.execute_input": "2021-08-14T18:09:29.423113Z",
     "iopub.status.busy": "2021-08-14T18:09:29.422469Z",
     "iopub.status.idle": "2021-08-14T18:09:29.428577Z",
     "shell.execute_reply": "2021-08-14T18:09:29.428082Z",
     "shell.execute_reply.started": "2021-08-14T18:02:49.169534Z"
    },
    "papermill": {
     "duration": 0.136913,
     "end_time": "2021-08-14T18:09:29.428734",
     "exception": false,
     "start_time": "2021-08-14T18:09:29.291821",
     "status": "completed"
    },
    "tags": []
   },
   "outputs": [],
   "source": [
    "from sklearn.preprocessing import StandardScaler\n",
    "sc_num1 = StandardScaler()\n",
    "sc_num1 = sc_num1.fit_transform(nu1)\n",
    "#Convert to table format - StandardScaler \n",
    "num2 = pd.DataFrame(data=sc_num1, columns=nu1.columns)"
   ]
  },
  {
   "cell_type": "markdown",
   "id": "2aeaa0db",
   "metadata": {
    "papermill": {
     "duration": 0.123042,
     "end_time": "2021-08-14T18:09:29.675183",
     "exception": false,
     "start_time": "2021-08-14T18:09:29.552141",
     "status": "completed"
    },
    "tags": []
   },
   "source": [
    "# Encoding"
   ]
  },
  {
   "cell_type": "code",
   "execution_count": 50,
   "id": "8655133c",
   "metadata": {
    "execution": {
     "iopub.execute_input": "2021-08-14T18:09:29.957339Z",
     "iopub.status.busy": "2021-08-14T18:09:29.956672Z",
     "iopub.status.idle": "2021-08-14T18:09:29.964530Z",
     "shell.execute_reply": "2021-08-14T18:09:29.963865Z",
     "shell.execute_reply.started": "2021-08-14T18:02:49.182704Z"
    },
    "papermill": {
     "duration": 0.165182,
     "end_time": "2021-08-14T18:09:29.964668",
     "exception": false,
     "start_time": "2021-08-14T18:09:29.799486",
     "status": "completed"
    },
    "tags": []
   },
   "outputs": [],
   "source": [
    "from sklearn import preprocessing\n",
    "le=preprocessing.LabelEncoder()\n",
    "col=ob1.columns\n",
    "for i in col:\n",
    "    ob1[i]=le.fit_transform(ob1[i])"
   ]
  },
  {
   "cell_type": "markdown",
   "id": "134aa589",
   "metadata": {
    "papermill": {
     "duration": 0.123362,
     "end_time": "2021-08-14T18:09:30.212994",
     "exception": false,
     "start_time": "2021-08-14T18:09:30.089632",
     "status": "completed"
    },
    "tags": []
   },
   "source": [
    "# Creating the Master Feature Set for Model Testing"
   ]
  },
  {
   "cell_type": "code",
   "execution_count": 51,
   "id": "7ecd28e9",
   "metadata": {
    "execution": {
     "iopub.execute_input": "2021-08-14T18:09:30.464452Z",
     "iopub.status.busy": "2021-08-14T18:09:30.463839Z",
     "iopub.status.idle": "2021-08-14T18:09:30.468457Z",
     "shell.execute_reply": "2021-08-14T18:09:30.467931Z",
     "shell.execute_reply.started": "2021-08-14T18:02:49.220555Z"
    },
    "papermill": {
     "duration": 0.131522,
     "end_time": "2021-08-14T18:09:30.468589",
     "exception": false,
     "start_time": "2021-08-14T18:09:30.337067",
     "status": "completed"
    },
    "tags": []
   },
   "outputs": [],
   "source": [
    "# concatination of numerical and categorical data\n",
    "X_test2=pd.concat([ob1,num2],axis=1,join=\"inner\")"
   ]
  },
  {
   "cell_type": "code",
   "execution_count": 52,
   "id": "a909205e",
   "metadata": {
    "execution": {
     "iopub.execute_input": "2021-08-14T18:09:30.717933Z",
     "iopub.status.busy": "2021-08-14T18:09:30.717298Z",
     "iopub.status.idle": "2021-08-14T18:09:30.721188Z",
     "shell.execute_reply": "2021-08-14T18:09:30.720640Z",
     "shell.execute_reply.started": "2021-08-14T18:02:49.229364Z"
    },
    "papermill": {
     "duration": 0.130884,
     "end_time": "2021-08-14T18:09:30.721345",
     "exception": false,
     "start_time": "2021-08-14T18:09:30.590461",
     "status": "completed"
    },
    "tags": []
   },
   "outputs": [
    {
     "data": {
      "text/plain": [
       "(1459, 51)"
      ]
     },
     "execution_count": 52,
     "metadata": {},
     "output_type": "execute_result"
    }
   ],
   "source": [
    "X_test2.shape"
   ]
  },
  {
   "cell_type": "markdown",
   "id": "bfe7dd09",
   "metadata": {
    "papermill": {
     "duration": 0.122624,
     "end_time": "2021-08-14T18:09:30.968072",
     "exception": false,
     "start_time": "2021-08-14T18:09:30.845448",
     "status": "completed"
    },
    "tags": []
   },
   "source": [
    "# Sale Price Rate"
   ]
  },
  {
   "cell_type": "code",
   "execution_count": 53,
   "id": "fb2a018f",
   "metadata": {
    "execution": {
     "iopub.execute_input": "2021-08-14T18:09:31.223429Z",
     "iopub.status.busy": "2021-08-14T18:09:31.221248Z",
     "iopub.status.idle": "2021-08-14T18:09:31.226733Z",
     "shell.execute_reply": "2021-08-14T18:09:31.227279Z",
     "shell.execute_reply.started": "2021-08-14T18:02:49.241682Z"
    },
    "papermill": {
     "duration": 0.135106,
     "end_time": "2021-08-14T18:09:31.227454",
     "exception": false,
     "start_time": "2021-08-14T18:09:31.092348",
     "status": "completed"
    },
    "tags": []
   },
   "outputs": [
    {
     "name": "stdout",
     "output_type": "stream",
     "text": [
      "Shape of Training Data (1460, 51)\n",
      "Shape of Testing Data (1459, 51)\n",
      "sale price Rate in Training Data SalePrice    180921.19589\n",
      "dtype: float64\n",
      "sale price Rate in Testing Data SalePrice    179183.918243\n",
      "dtype: float64\n"
     ]
    }
   ],
   "source": [
    "# comparing sale price rate for traing and testing data\n",
    "print(\"Shape of Training Data\",X_train.shape)\n",
    "print(\"Shape of Testing Data\",X_test2.shape)\n",
    "print(\"sale price Rate in Training Data\",y_train.mean())\n",
    "print(\"sale price Rate in Testing Data\",y_test2.mean())"
   ]
  },
  {
   "cell_type": "markdown",
   "id": "f23bb58a",
   "metadata": {
    "papermill": {
     "duration": 0.123148,
     "end_time": "2021-08-14T18:09:31.474684",
     "exception": false,
     "start_time": "2021-08-14T18:09:31.351536",
     "status": "completed"
    },
    "tags": []
   },
   "source": [
    "# Model Building"
   ]
  },
  {
   "cell_type": "code",
   "execution_count": 54,
   "id": "93427941",
   "metadata": {
    "execution": {
     "iopub.execute_input": "2021-08-14T18:09:31.727083Z",
     "iopub.status.busy": "2021-08-14T18:09:31.726400Z",
     "iopub.status.idle": "2021-08-14T18:09:32.505811Z",
     "shell.execute_reply": "2021-08-14T18:09:32.504837Z",
     "shell.execute_reply.started": "2021-08-14T18:02:49.257781Z"
    },
    "papermill": {
     "duration": 0.908369,
     "end_time": "2021-08-14T18:09:32.506049",
     "exception": false,
     "start_time": "2021-08-14T18:09:31.597680",
     "status": "completed"
    },
    "tags": []
   },
   "outputs": [],
   "source": [
    "# build linear regression model\n",
    "import statsmodels.api as sm\n",
    "X_endog = sm.add_constant(X_test2)\n",
    "res = sm.OLS(y_test2, X_endog)\n",
    "model=res.fit()\n",
    "pred1=model.predict(X_endog)"
   ]
  },
  {
   "cell_type": "markdown",
   "id": "dc6c02e1",
   "metadata": {
    "papermill": {
     "duration": 0.124278,
     "end_time": "2021-08-14T18:09:32.806390",
     "exception": false,
     "start_time": "2021-08-14T18:09:32.682112",
     "status": "completed"
    },
    "tags": []
   },
   "source": [
    "# Measuring Errors"
   ]
  },
  {
   "cell_type": "code",
   "execution_count": 55,
   "id": "19093cd8",
   "metadata": {
    "execution": {
     "iopub.execute_input": "2021-08-14T18:09:33.066319Z",
     "iopub.status.busy": "2021-08-14T18:09:33.065315Z",
     "iopub.status.idle": "2021-08-14T18:09:33.069468Z",
     "shell.execute_reply": "2021-08-14T18:09:33.068808Z",
     "shell.execute_reply.started": "2021-08-14T18:02:49.286259Z"
    },
    "papermill": {
     "duration": 0.139228,
     "end_time": "2021-08-14T18:09:33.069609",
     "exception": false,
     "start_time": "2021-08-14T18:09:32.930381",
     "status": "completed"
    },
    "tags": []
   },
   "outputs": [
    {
     "name": "stdout",
     "output_type": "stream",
     "text": [
      "MAE : 963.9467917737173\n",
      "MSE : 1270075.9772074672\n",
      "RMSE : 1126.976475889123\n"
     ]
    }
   ],
   "source": [
    "# checking MAE, MSE AND RMSE values  \n",
    "from sklearn import metrics\n",
    "\n",
    "print('MAE :', metrics.mean_absolute_error(y_test2, pred1))\n",
    "print('MSE :', metrics.mean_squared_error(y_test2, pred1))\n",
    "print('RMSE :', np.sqrt(metrics.mean_squared_error(y_test2, pred1)))"
   ]
  },
  {
   "cell_type": "markdown",
   "id": "23dc0ede",
   "metadata": {
    "papermill": {
     "duration": 0.124143,
     "end_time": "2021-08-14T18:09:33.319023",
     "exception": false,
     "start_time": "2021-08-14T18:09:33.194880",
     "status": "completed"
    },
    "tags": []
   },
   "source": [
    "# Rig Plot"
   ]
  },
  {
   "cell_type": "code",
   "execution_count": 56,
   "id": "84349e0b",
   "metadata": {
    "execution": {
     "iopub.execute_input": "2021-08-14T18:09:33.575349Z",
     "iopub.status.busy": "2021-08-14T18:09:33.574697Z",
     "iopub.status.idle": "2021-08-14T18:09:33.960843Z",
     "shell.execute_reply": "2021-08-14T18:09:33.960327Z",
     "shell.execute_reply.started": "2021-08-14T18:02:49.307824Z"
    },
    "papermill": {
     "duration": 0.515843,
     "end_time": "2021-08-14T18:09:33.961011",
     "exception": false,
     "start_time": "2021-08-14T18:09:33.445168",
     "status": "completed"
    },
    "tags": []
   },
   "outputs": [
    {
     "data": {
      "text/plain": [
       "<AxesSubplot:xlabel='SalePrice'>"
      ]
     },
     "execution_count": 56,
     "metadata": {},
     "output_type": "execute_result"
    },
    {
     "data": {
      "image/png": "[encoded data removed]",
      "text/plain": [
       "<Figure size 432x288 with 1 Axes>"
      ]
     },
     "metadata": {
      "needs_background": "light"
     },
     "output_type": "display_data"
    }
   ],
   "source": [
    "# linear regression plot\n",
    "sns.regplot(x=y_test2, y=pred1, data=pred1)"
   ]
  },
  {
   "cell_type": "markdown",
   "id": "5cea1851",
   "metadata": {
    "papermill": {
     "duration": 0.124799,
     "end_time": "2021-08-14T18:09:34.211523",
     "exception": false,
     "start_time": "2021-08-14T18:09:34.086724",
     "status": "completed"
    },
    "tags": []
   },
   "source": [
    "# Summary"
   ]
  },
  {
   "cell_type": "code",
   "execution_count": 57,
   "id": "4bc815e1",
   "metadata": {
    "execution": {
     "iopub.execute_input": "2021-08-14T18:09:34.468687Z",
     "iopub.status.busy": "2021-08-14T18:09:34.467627Z",
     "iopub.status.idle": "2021-08-14T18:09:34.556903Z",
     "shell.execute_reply": "2021-08-14T18:09:34.558161Z",
     "shell.execute_reply.started": "2021-08-14T18:02:49.734099Z"
    },
    "papermill": {
     "duration": 0.221286,
     "end_time": "2021-08-14T18:09:34.558421",
     "exception": false,
     "start_time": "2021-08-14T18:09:34.337135",
     "status": "completed"
    },
    "tags": []
   },
   "outputs": [
    {
     "data": {
      "text/html": [
       "<table class=\"simpletable\">\n",
       "<caption>OLS Regression Results</caption>\n",
       "<tr>\n",
       "  <th>Dep. Variable:</th>        <td>SalePrice</td>    <th>  R-squared:         </th> <td>   0.995</td> \n",
       "</tr>\n",
       "<tr>\n",
       "  <th>Model:</th>                   <td>OLS</td>       <th>  Adj. R-squared:    </th> <td>   0.995</td> \n",
       "</tr>\n",
       "<tr>\n",
       "  <th>Method:</th>             <td>Least Squares</td>  <th>  F-statistic:       </th> <td>   6017.</td> \n",
       "</tr>\n",
       "<tr>\n",
       "  <th>Date:</th>             <td>Sat, 14 Aug 2021</td> <th>  Prob (F-statistic):</th>  <td>  0.00</td>  \n",
       "</tr>\n",
       "<tr>\n",
       "  <th>Time:</th>                 <td>18:09:34</td>     <th>  Log-Likelihood:    </th> <td> -12323.</td> \n",
       "</tr>\n",
       "<tr>\n",
       "  <th>No. Observations:</th>      <td>  1459</td>      <th>  AIC:               </th> <td>2.475e+04</td>\n",
       "</tr>\n",
       "<tr>\n",
       "  <th>Df Residuals:</th>          <td>  1408</td>      <th>  BIC:               </th> <td>2.502e+04</td>\n",
       "</tr>\n",
       "<tr>\n",
       "  <th>Df Model:</th>              <td>    50</td>      <th>                     </th>     <td> </td>    \n",
       "</tr>\n",
       "<tr>\n",
       "  <th>Covariance Type:</th>      <td>nonrobust</td>    <th>                     </th>     <td> </td>    \n",
       "</tr>\n",
       "</table>\n",
       "<table class=\"simpletable\">\n",
       "<tr>\n",
       "        <td></td>           <th>coef</th>     <th>std err</th>      <th>t</th>      <th>P>|t|</th>  <th>[0.025</th>    <th>0.975]</th>  \n",
       "</tr>\n",
       "<tr>\n",
       "  <th>const</th>         <td> 1.353e+05</td> <td>  579.408</td> <td>  233.561</td> <td> 0.000</td> <td> 1.34e+05</td> <td> 1.36e+05</td>\n",
       "</tr>\n",
       "<tr>\n",
       "  <th>MSZoning</th>      <td>   38.9793</td> <td>   49.731</td> <td>    0.784</td> <td> 0.433</td> <td>  -58.575</td> <td>  136.534</td>\n",
       "</tr>\n",
       "<tr>\n",
       "  <th>LotShape</th>      <td>  -13.6447</td> <td>   24.594</td> <td>   -0.555</td> <td> 0.579</td> <td>  -61.889</td> <td>   34.600</td>\n",
       "</tr>\n",
       "<tr>\n",
       "  <th>LandContour</th>   <td>  -12.4748</td> <td>   48.679</td> <td>   -0.256</td> <td> 0.798</td> <td> -107.966</td> <td>   83.016</td>\n",
       "</tr>\n",
       "<tr>\n",
       "  <th>LotConfig</th>     <td>    4.9924</td> <td>   19.818</td> <td>    0.252</td> <td> 0.801</td> <td>  -33.884</td> <td>   43.868</td>\n",
       "</tr>\n",
       "<tr>\n",
       "  <th>LandSlope</th>     <td> -244.8384</td> <td>  157.680</td> <td>   -1.553</td> <td> 0.121</td> <td> -554.152</td> <td>   64.475</td>\n",
       "</tr>\n",
       "<tr>\n",
       "  <th>Neighborhood</th>  <td>   -4.5686</td> <td>    5.660</td> <td>   -0.807</td> <td> 0.420</td> <td>  -15.672</td> <td>    6.535</td>\n",
       "</tr>\n",
       "<tr>\n",
       "  <th>Condition1</th>    <td>   53.7507</td> <td>   35.462</td> <td>    1.516</td> <td> 0.130</td> <td>  -15.813</td> <td>  123.314</td>\n",
       "</tr>\n",
       "<tr>\n",
       "  <th>HouseStyle</th>    <td>  -11.5864</td> <td>   26.729</td> <td>   -0.433</td> <td> 0.665</td> <td>  -64.019</td> <td>   40.846</td>\n",
       "</tr>\n",
       "<tr>\n",
       "  <th>RoofStyle</th>     <td>    7.0303</td> <td>   42.168</td> <td>    0.167</td> <td> 0.868</td> <td>  -75.689</td> <td>   89.750</td>\n",
       "</tr>\n",
       "<tr>\n",
       "  <th>RoofMatl</th>      <td>  140.1831</td> <td>  200.609</td> <td>    0.699</td> <td> 0.485</td> <td> -253.341</td> <td>  533.707</td>\n",
       "</tr>\n",
       "<tr>\n",
       "  <th>Exterior1st</th>   <td>  -75.5166</td> <td>   23.839</td> <td>   -3.168</td> <td> 0.002</td> <td> -122.279</td> <td>  -28.754</td>\n",
       "</tr>\n",
       "<tr>\n",
       "  <th>Exterior2nd</th>   <td>   47.9009</td> <td>   18.815</td> <td>    2.546</td> <td> 0.011</td> <td>   10.992</td> <td>   84.810</td>\n",
       "</tr>\n",
       "<tr>\n",
       "  <th>MasVnrType</th>    <td>  -55.8381</td> <td>   57.555</td> <td>   -0.970</td> <td> 0.332</td> <td> -168.740</td> <td>   57.064</td>\n",
       "</tr>\n",
       "<tr>\n",
       "  <th>ExterQual</th>     <td>  122.6718</td> <td>   68.543</td> <td>    1.790</td> <td> 0.074</td> <td>  -11.786</td> <td>  257.130</td>\n",
       "</tr>\n",
       "<tr>\n",
       "  <th>Foundation</th>    <td>   41.8912</td> <td>   54.514</td> <td>    0.768</td> <td> 0.442</td> <td>  -65.046</td> <td>  148.829</td>\n",
       "</tr>\n",
       "<tr>\n",
       "  <th>BsmtQual</th>      <td>   16.7022</td> <td>   49.809</td> <td>    0.335</td> <td> 0.737</td> <td>  -81.006</td> <td>  114.411</td>\n",
       "</tr>\n",
       "<tr>\n",
       "  <th>BsmtCond</th>      <td>  -52.5713</td> <td>   45.362</td> <td>   -1.159</td> <td> 0.247</td> <td> -141.557</td> <td>   36.414</td>\n",
       "</tr>\n",
       "<tr>\n",
       "  <th>BsmtExposure</th>  <td>  -68.3559</td> <td>   33.654</td> <td>   -2.031</td> <td> 0.042</td> <td> -134.374</td> <td>   -2.338</td>\n",
       "</tr>\n",
       "<tr>\n",
       "  <th>BsmtFinType1</th>  <td>   -0.4280</td> <td>   22.857</td> <td>   -0.019</td> <td> 0.985</td> <td>  -45.266</td> <td>   44.410</td>\n",
       "</tr>\n",
       "<tr>\n",
       "  <th>BsmtFinType2</th>  <td>   82.4187</td> <td>   43.860</td> <td>    1.879</td> <td> 0.060</td> <td>   -3.619</td> <td>  168.456</td>\n",
       "</tr>\n",
       "<tr>\n",
       "  <th>HeatingQC</th>     <td>   -1.7269</td> <td>   21.623</td> <td>   -0.080</td> <td> 0.936</td> <td>  -44.144</td> <td>   40.690</td>\n",
       "</tr>\n",
       "<tr>\n",
       "  <th>KitchenQual</th>   <td>  -10.7239</td> <td>   53.691</td> <td>   -0.200</td> <td> 0.842</td> <td> -116.048</td> <td>   94.600</td>\n",
       "</tr>\n",
       "<tr>\n",
       "  <th>FireplaceQu</th>   <td>    4.5754</td> <td>   40.230</td> <td>    0.114</td> <td> 0.909</td> <td>  -74.342</td> <td>   83.493</td>\n",
       "</tr>\n",
       "<tr>\n",
       "  <th>GarageType</th>    <td>  -22.4325</td> <td>   22.095</td> <td>   -1.015</td> <td> 0.310</td> <td>  -65.775</td> <td>   20.910</td>\n",
       "</tr>\n",
       "<tr>\n",
       "  <th>GarageFinish</th>  <td>  -23.5632</td> <td>   50.607</td> <td>   -0.466</td> <td> 0.642</td> <td> -122.836</td> <td>   75.709</td>\n",
       "</tr>\n",
       "<tr>\n",
       "  <th>SaleType</th>      <td>  -27.5241</td> <td>   19.500</td> <td>   -1.411</td> <td> 0.158</td> <td>  -65.777</td> <td>   10.729</td>\n",
       "</tr>\n",
       "<tr>\n",
       "  <th>SaleCondition</th> <td>   54.5289</td> <td>   31.017</td> <td>    1.758</td> <td> 0.079</td> <td>   -6.316</td> <td>  115.374</td>\n",
       "</tr>\n",
       "<tr>\n",
       "  <th>MSSubClass</th>    <td>    4.5178</td> <td>    9.541</td> <td>    0.474</td> <td> 0.636</td> <td>  -14.198</td> <td>   23.234</td>\n",
       "</tr>\n",
       "<tr>\n",
       "  <th>OverallQual</th>   <td>   37.6292</td> <td>   39.501</td> <td>    0.953</td> <td> 0.341</td> <td>  -39.858</td> <td>  115.116</td>\n",
       "</tr>\n",
       "<tr>\n",
       "  <th>OverallCond</th>   <td>    0.2854</td> <td>   31.461</td> <td>    0.009</td> <td> 0.993</td> <td>  -61.430</td> <td>   62.001</td>\n",
       "</tr>\n",
       "<tr>\n",
       "  <th>BsmtFullBath</th>  <td>  -39.8002</td> <td>   78.402</td> <td>   -0.508</td> <td> 0.612</td> <td> -193.597</td> <td>  113.996</td>\n",
       "</tr>\n",
       "<tr>\n",
       "  <th>FullBath</th>      <td> -125.7193</td> <td>   86.036</td> <td>   -1.461</td> <td> 0.144</td> <td> -294.492</td> <td>   43.054</td>\n",
       "</tr>\n",
       "<tr>\n",
       "  <th>HalfBath</th>      <td> -141.2664</td> <td>   86.866</td> <td>   -1.626</td> <td> 0.104</td> <td> -311.668</td> <td>   29.135</td>\n",
       "</tr>\n",
       "<tr>\n",
       "  <th>BedroomAbvGr</th>  <td>  1.32e+04</td> <td>   57.009</td> <td>  231.532</td> <td> 0.000</td> <td> 1.31e+04</td> <td> 1.33e+04</td>\n",
       "</tr>\n",
       "<tr>\n",
       "  <th>TotRmsAbvGrd</th>  <td>   28.7801</td> <td>   38.639</td> <td>    0.745</td> <td> 0.456</td> <td>  -47.016</td> <td>  104.577</td>\n",
       "</tr>\n",
       "<tr>\n",
       "  <th>Fireplaces</th>    <td>  -75.3584</td> <td>   62.165</td> <td>   -1.212</td> <td> 0.226</td> <td> -197.304</td> <td>   46.588</td>\n",
       "</tr>\n",
       "<tr>\n",
       "  <th>GarageCars</th>    <td>  -35.4459</td> <td>   58.180</td> <td>   -0.609</td> <td> 0.542</td> <td> -149.575</td> <td>   78.683</td>\n",
       "</tr>\n",
       "<tr>\n",
       "  <th>3SsnPorch</th>     <td>  -40.2724</td> <td>   45.620</td> <td>   -0.883</td> <td> 0.378</td> <td> -129.762</td> <td>   49.218</td>\n",
       "</tr>\n",
       "<tr>\n",
       "  <th>PoolArea</th>      <td>  279.7418</td> <td>  126.294</td> <td>    2.215</td> <td> 0.027</td> <td>   31.997</td> <td>  527.487</td>\n",
       "</tr>\n",
       "<tr>\n",
       "  <th>MoSold</th>        <td> 1180.7460</td> <td>   11.313</td> <td>  104.375</td> <td> 0.000</td> <td> 1158.555</td> <td> 1202.937</td>\n",
       "</tr>\n",
       "<tr>\n",
       "  <th>LowQualFinSF</th>  <td>   47.8297</td> <td>  151.397</td> <td>    0.316</td> <td> 0.752</td> <td> -249.158</td> <td>  344.817</td>\n",
       "</tr>\n",
       "<tr>\n",
       "  <th>LotFrontage</th>   <td>  -13.1520</td> <td>   42.156</td> <td>   -0.312</td> <td> 0.755</td> <td>  -95.848</td> <td>   69.544</td>\n",
       "</tr>\n",
       "<tr>\n",
       "  <th>LotArea</th>       <td> 9824.1677</td> <td>   41.444</td> <td>  237.045</td> <td> 0.000</td> <td> 9742.869</td> <td> 9905.467</td>\n",
       "</tr>\n",
       "<tr>\n",
       "  <th>MasVnrArea</th>    <td>   42.8823</td> <td>   40.513</td> <td>    1.058</td> <td> 0.290</td> <td>  -36.589</td> <td>  122.354</td>\n",
       "</tr>\n",
       "<tr>\n",
       "  <th>BsmtFinSF1</th>    <td>  -31.4882</td> <td>   35.416</td> <td>   -0.889</td> <td> 0.374</td> <td> -100.962</td> <td>   37.985</td>\n",
       "</tr>\n",
       "<tr>\n",
       "  <th>BsmtFinSF2</th>    <td>   72.2776</td> <td>   44.639</td> <td>    1.619</td> <td> 0.106</td> <td>  -15.289</td> <td>  159.844</td>\n",
       "</tr>\n",
       "<tr>\n",
       "  <th>BsmtUnfSF</th>     <td>   30.6599</td> <td>   31.321</td> <td>    0.979</td> <td> 0.328</td> <td>  -30.782</td> <td>   92.101</td>\n",
       "</tr>\n",
       "<tr>\n",
       "  <th>TotalBsmtSF</th>   <td>   26.7468</td> <td>   40.769</td> <td>    0.656</td> <td> 0.512</td> <td>  -53.229</td> <td>  106.722</td>\n",
       "</tr>\n",
       "<tr>\n",
       "  <th>1stFlrSF</th>      <td>  688.8086</td> <td> 1133.214</td> <td>    0.608</td> <td> 0.543</td> <td>-1534.161</td> <td> 2911.779</td>\n",
       "</tr>\n",
       "<tr>\n",
       "  <th>2ndFlrSF</th>      <td>  846.6761</td> <td> 1196.284</td> <td>    0.708</td> <td> 0.479</td> <td>-1500.015</td> <td> 3193.367</td>\n",
       "</tr>\n",
       "<tr>\n",
       "  <th>GrLivArea</th>     <td> -880.2341</td> <td> 1380.153</td> <td>   -0.638</td> <td> 0.524</td> <td>-3587.611</td> <td> 1827.143</td>\n",
       "</tr>\n",
       "</table>\n",
       "<table class=\"simpletable\">\n",
       "<tr>\n",
       "  <th>Omnibus:</th>       <td>463.096</td> <th>  Durbin-Watson:     </th> <td>   0.133</td>\n",
       "</tr>\n",
       "<tr>\n",
       "  <th>Prob(Omnibus):</th> <td> 0.000</td>  <th>  Jarque-Bera (JB):  </th> <td>  71.658</td>\n",
       "</tr>\n",
       "<tr>\n",
       "  <th>Skew:</th>          <td>-0.099</td>  <th>  Prob(JB):          </th> <td>2.75e-16</td>\n",
       "</tr>\n",
       "<tr>\n",
       "  <th>Kurtosis:</th>      <td> 1.933</td>  <th>  Cond. No.          </th> <td>1.01e+16</td>\n",
       "</tr>\n",
       "</table><br/><br/>Notes:<br/>[1] Standard Errors assume that the covariance matrix of the errors is correctly specified.<br/>[2] The smallest eigenvalue is 9.21e-27. This might indicate that there are<br/>strong multicollinearity problems or that the design matrix is singular."
      ],
      "text/plain": [
       "<class 'statsmodels.iolib.summary.Summary'>\n",
       "\"\"\"\n",
       "                            OLS Regression Results                            \n",
       "==============================================================================\n",
       "Dep. Variable:              SalePrice   R-squared:                       0.995\n",
       "Model:                            OLS   Adj. R-squared:                  0.995\n",
       "Method:                 Least Squares   F-statistic:                     6017.\n",
       "Date:                Sat, 14 Aug 2021   Prob (F-statistic):               0.00\n",
       "Time:                        18:09:34   Log-Likelihood:                -12323.\n",
       "No. Observations:                1459   AIC:                         2.475e+04\n",
       "Df Residuals:                    1408   BIC:                         2.502e+04\n",
       "Df Model:                          50                                         \n",
       "Covariance Type:            nonrobust                                         \n",
       "=================================================================================\n",
       "                    coef    std err          t      P>|t|      [0.025      0.975]\n",
       "---------------------------------------------------------------------------------\n",
       "const          1.353e+05    579.408    233.561      0.000    1.34e+05    1.36e+05\n",
       "MSZoning         38.9793     49.731      0.784      0.433     -58.575     136.534\n",
       "LotShape        -13.6447     24.594     -0.555      0.579     -61.889      34.600\n",
       "LandContour     -12.4748     48.679     -0.256      0.798    -107.966      83.016\n",
       "LotConfig         4.9924     19.818      0.252      0.801     -33.884      43.868\n",
       "LandSlope      -244.8384    157.680     -1.553      0.121    -554.152      64.475\n",
       "Neighborhood     -4.5686      5.660     -0.807      0.420     -15.672       6.535\n",
       "Condition1       53.7507     35.462      1.516      0.130     -15.813     123.314\n",
       "HouseStyle      -11.5864     26.729     -0.433      0.665     -64.019      40.846\n",
       "RoofStyle         7.0303     42.168      0.167      0.868     -75.689      89.750\n",
       "RoofMatl        140.1831    200.609      0.699      0.485    -253.341     533.707\n",
       "Exterior1st     -75.5166     23.839     -3.168      0.002    -122.279     -28.754\n",
       "Exterior2nd      47.9009     18.815      2.546      0.011      10.992      84.810\n",
       "MasVnrType      -55.8381     57.555     -0.970      0.332    -168.740      57.064\n",
       "ExterQual       122.6718     68.543      1.790      0.074     -11.786     257.130\n",
       "Foundation       41.8912     54.514      0.768      0.442     -65.046     148.829\n",
       "BsmtQual         16.7022     49.809      0.335      0.737     -81.006     114.411\n",
       "BsmtCond        -52.5713     45.362     -1.159      0.247    -141.557      36.414\n",
       "BsmtExposure    -68.3559     33.654     -2.031      0.042    -134.374      -2.338\n",
       "BsmtFinType1     -0.4280     22.857     -0.019      0.985     -45.266      44.410\n",
       "BsmtFinType2     82.4187     43.860      1.879      0.060      -3.619     168.456\n",
       "HeatingQC        -1.7269     21.623     -0.080      0.936     -44.144      40.690\n",
       "KitchenQual     -10.7239     53.691     -0.200      0.842    -116.048      94.600\n",
       "FireplaceQu       4.5754     40.230      0.114      0.909     -74.342      83.493\n",
       "GarageType      -22.4325     22.095     -1.015      0.310     -65.775      20.910\n",
       "GarageFinish    -23.5632     50.607     -0.466      0.642    -122.836      75.709\n",
       "SaleType        -27.5241     19.500     -1.411      0.158     -65.777      10.729\n",
       "SaleCondition    54.5289     31.017      1.758      0.079      -6.316     115.374\n",
       "MSSubClass        4.5178      9.541      0.474      0.636     -14.198      23.234\n",
       "OverallQual      37.6292     39.501      0.953      0.341     -39.858     115.116\n",
       "OverallCond       0.2854     31.461      0.009      0.993     -61.430      62.001\n",
       "BsmtFullBath    -39.8002     78.402     -0.508      0.612    -193.597     113.996\n",
       "FullBath       -125.7193     86.036     -1.461      0.144    -294.492      43.054\n",
       "HalfBath       -141.2664     86.866     -1.626      0.104    -311.668      29.135\n",
       "BedroomAbvGr    1.32e+04     57.009    231.532      0.000    1.31e+04    1.33e+04\n",
       "TotRmsAbvGrd     28.7801     38.639      0.745      0.456     -47.016     104.577\n",
       "Fireplaces      -75.3584     62.165     -1.212      0.226    -197.304      46.588\n",
       "GarageCars      -35.4459     58.180     -0.609      0.542    -149.575      78.683\n",
       "3SsnPorch       -40.2724     45.620     -0.883      0.378    -129.762      49.218\n",
       "PoolArea        279.7418    126.294      2.215      0.027      31.997     527.487\n",
       "MoSold         1180.7460     11.313    104.375      0.000    1158.555    1202.937\n",
       "LowQualFinSF     47.8297    151.397      0.316      0.752    -249.158     344.817\n",
       "LotFrontage     -13.1520     42.156     -0.312      0.755     -95.848      69.544\n",
       "LotArea        9824.1677     41.444    237.045      0.000    9742.869    9905.467\n",
       "MasVnrArea       42.8823     40.513      1.058      0.290     -36.589     122.354\n",
       "BsmtFinSF1      -31.4882     35.416     -0.889      0.374    -100.962      37.985\n",
       "BsmtFinSF2       72.2776     44.639      1.619      0.106     -15.289     159.844\n",
       "BsmtUnfSF        30.6599     31.321      0.979      0.328     -30.782      92.101\n",
       "TotalBsmtSF      26.7468     40.769      0.656      0.512     -53.229     106.722\n",
       "1stFlrSF        688.8086   1133.214      0.608      0.543   -1534.161    2911.779\n",
       "2ndFlrSF        846.6761   1196.284      0.708      0.479   -1500.015    3193.367\n",
       "GrLivArea      -880.2341   1380.153     -0.638      0.524   -3587.611    1827.143\n",
       "==============================================================================\n",
       "Omnibus:                      463.096   Durbin-Watson:                   0.133\n",
       "Prob(Omnibus):                  0.000   Jarque-Bera (JB):               71.658\n",
       "Skew:                          -0.099   Prob(JB):                     2.75e-16\n",
       "Kurtosis:                       1.933   Cond. No.                     1.01e+16\n",
       "==============================================================================\n",
       "\n",
       "Notes:\n",
       "[1] Standard Errors assume that the covariance matrix of the errors is correctly specified.\n",
       "[2] The smallest eigenvalue is 9.21e-27. This might indicate that there are\n",
       "strong multicollinearity problems or that the design matrix is singular.\n",
       "\"\"\""
      ]
     },
     "execution_count": 57,
     "metadata": {},
     "output_type": "execute_result"
    }
   ],
   "source": [
    "# summary of model prediction\n",
    "res.fit().summary()"
   ]
  },
  {
   "cell_type": "code",
   "execution_count": null,
   "id": "bac0c942",
   "metadata": {
    "papermill": {
     "duration": 0.125707,
     "end_time": "2021-08-14T18:09:34.826966",
     "exception": false,
     "start_time": "2021-08-14T18:09:34.701259",
     "status": "completed"
    },
    "tags": []
   },
   "outputs": [],
   "source": []
  }
 ],
 "metadata": {
  "kernelspec": {
   "display_name": "Python 3",
   "language": "python",
   "name": "python3"
  },
  "language_info": {
   "codemirror_mode": {
    "name": "ipython",
    "version": 3
   },
   "file_extension": ".py",
   "mimetype": "text/x-python",
   "name": "python",
   "nbconvert_exporter": "python",
   "pygments_lexer": "ipython3",
   "version": "3.7.10"
  },
  "papermill": {
   "default_parameters": {},
   "duration": 56.562197,
   "end_time": "2021-08-14T18:09:35.964687",
   "environment_variables": {},
   "exception": null,
   "input_path": "__notebook__.ipynb",
   "output_path": "__notebook__.ipynb",
   "parameters": {},
   "start_time": "2021-08-14T18:08:39.402490",
   "version": "2.3.3"
  }
 },
 "nbformat": 4,
 "nbformat_minor": 5
}
